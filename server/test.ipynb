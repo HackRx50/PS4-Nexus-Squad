{
 "cells": [
  {
   "cell_type": "code",
   "execution_count": 3,
   "metadata": {},
   "outputs": [],
   "source": [
    "from apis.nexabot.guardrails import can_perform, check_approval, can_answer_from_docs\n",
    "from langchain_community.docstore.document import Document"
   ]
  },
  {
   "cell_type": "code",
   "execution_count": 3,
   "metadata": {},
   "outputs": [
    {
     "name": "stdout",
     "output_type": "stream",
     "text": [
      "Execution time of 'can_perform': 1.1475825309753418 seconds\n"
     ]
    }
   ],
   "source": [
    "result = can_perform(\"tell me about abhishek mourya\", \"nova\")"
   ]
  },
  {
   "cell_type": "code",
   "execution_count": 4,
   "metadata": {},
   "outputs": [
    {
     "data": {
      "text/plain": [
       "Document(id='cm202lolh0002ig3e1it8ixvh', metadata={}, page_content='\\n    Looks up DNS records for a given domain using the API Ninjas DNS Lookup API.\\n    \\n    This function sends a GET request to the API Ninjas DNS Lookup service with the provided domain name\\n    and retrieves the DNS records associated with it.\\n    \\n    Args:\\n        domain (str): The domain name for which to retrieve DNS records.\\n    \\n    Returns:\\n        str: The DNS records of the specified domain in text format if the request is successful.\\n        If the request fails, an error message and the response status code are printed.\\n    \\n    Raises:\\n        None: The function does not explicitly raise exceptions but will print error details if the request fails.\\n    ')"
      ]
     },
     "execution_count": 4,
     "metadata": {},
     "output_type": "execute_result"
    }
   ],
   "source": [
    "result[0]"
   ]
  },
  {
   "cell_type": "code",
   "execution_count": 5,
   "metadata": {},
   "outputs": [
    {
     "name": "stdout",
     "output_type": "stream",
     "text": [
      "Execution time of 'check_approval': 0.6662039756774902 seconds\n"
     ]
    }
   ],
   "source": [
    "result2 = check_approval(\"search about abhishek mourya\", result[0])"
   ]
  },
  {
   "cell_type": "code",
   "execution_count": 6,
   "metadata": {},
   "outputs": [
    {
     "data": {
      "text/plain": [
       "{'status': 'Disapproved',\n",
       " 'message': 'The request does not match the specified criteria.'}"
      ]
     },
     "execution_count": 6,
     "metadata": {},
     "output_type": "execute_result"
    }
   ],
   "source": [
    "result2"
   ]
  },
  {
   "cell_type": "code",
   "execution_count": 4,
   "metadata": {},
   "outputs": [
    {
     "ename": "AttributeError",
     "evalue": "'tuple' object has no attribute 'page_content'",
     "output_type": "error",
     "traceback": [
      "\u001b[0;31m---------------------------------------------------------------------------\u001b[0m",
      "\u001b[0;31mAttributeError\u001b[0m                            Traceback (most recent call last)",
      "Cell \u001b[0;32mIn[4], line 1\u001b[0m\n\u001b[0;32m----> 1\u001b[0m \u001b[43mcan_answer_from_docs\u001b[49m\u001b[43m(\u001b[49m\u001b[38;5;124;43m\"\u001b[39;49m\u001b[38;5;124;43mabhishek mourya resume\u001b[39;49m\u001b[38;5;124;43m\"\u001b[39;49m\u001b[43m,\u001b[49m\u001b[43m \u001b[49m\u001b[38;5;124;43m\"\u001b[39;49m\u001b[38;5;124;43mnova\u001b[39;49m\u001b[38;5;124;43m\"\u001b[39;49m\u001b[43m)\u001b[49m\n",
      "File \u001b[0;32m~/deployments/nexaflow/server/apis/nexabot/guardrails.py:46\u001b[0m, in \u001b[0;36mcan_answer_from_docs\u001b[0;34m(query, agent_name)\u001b[0m\n\u001b[1;32m     40\u001b[0m pages \u001b[38;5;241m=\u001b[39m \u001b[38;5;124m\"\u001b[39m\u001b[38;5;124m\"\u001b[39m\n\u001b[1;32m     42\u001b[0m \u001b[38;5;28;01mfor\u001b[39;00m index, page \u001b[38;5;129;01min\u001b[39;00m \u001b[38;5;28menumerate\u001b[39m(results):\n\u001b[1;32m     43\u001b[0m     pages \u001b[38;5;241m+\u001b[39m\u001b[38;5;241m=\u001b[39m \u001b[38;5;124mf\u001b[39m\u001b[38;5;124m\"\"\"\u001b[39m\n\u001b[1;32m     44\u001b[0m \u001b[38;5;124m        \u001b[39m\u001b[38;5;124m\"\u001b[39m\u001b[38;5;124mPage \u001b[39m\u001b[38;5;132;01m{\u001b[39;00mindex\u001b[38;5;132;01m}\u001b[39;00m\u001b[38;5;124m:\u001b[39m\n\u001b[1;32m     45\u001b[0m \n\u001b[0;32m---> 46\u001b[0m \u001b[38;5;124m        \u001b[39m\u001b[38;5;132;01m{\u001b[39;00m\u001b[43mpage\u001b[49m\u001b[38;5;241;43m.\u001b[39;49m\u001b[43mpage_content\u001b[49m\u001b[38;5;132;01m}\u001b[39;00m\u001b[38;5;124m   \u001b[39m\n\u001b[1;32m     47\u001b[0m \n\u001b[1;32m     48\u001b[0m \u001b[38;5;124m        -----------------------------------------------------------------------------     \u001b[39m\n\u001b[1;32m     49\u001b[0m \u001b[38;5;124m    \u001b[39m\u001b[38;5;124m\"\"\"\u001b[39m\n\u001b[1;32m     51\u001b[0m llm \u001b[38;5;241m=\u001b[39m ChatCohere()\n\u001b[1;32m     53\u001b[0m promptAction1 \u001b[38;5;241m=\u001b[39m ChatPromptTemplate\u001b[38;5;241m.\u001b[39mfrom_template(\n\u001b[1;32m     54\u001b[0m     \u001b[38;5;124mf\u001b[39m\u001b[38;5;124m'''\u001b[39m\n\u001b[1;32m     55\u001b[0m \u001b[38;5;124m    If the query can be answered from the below pages of different document, respond with a valid JSON containing just one key: \u001b[39m\u001b[38;5;124m\"\u001b[39m\u001b[38;5;124mstatus\u001b[39m\u001b[38;5;124m\"\u001b[39m\u001b[38;5;124m with the value \u001b[39m\u001b[38;5;124m\"\u001b[39m\u001b[38;5;124mApproved\u001b[39m\u001b[38;5;124m\"\u001b[39m\u001b[38;5;124m and not any other data or key.\u001b[39m\n\u001b[0;32m   (...)\u001b[0m\n\u001b[1;32m     63\u001b[0m \u001b[38;5;124m    \u001b[39m\u001b[38;5;124m'''\u001b[39m\n\u001b[1;32m     64\u001b[0m )\n",
      "\u001b[0;31mAttributeError\u001b[0m: 'tuple' object has no attribute 'page_content'"
     ]
    }
   ],
   "source": [
    "can_answer_from_docs(\"abhishek mourya resume\", \"nova\")"
   ]
  },
  {
   "cell_type": "code",
   "execution_count": 3,
   "metadata": {},
   "outputs": [
    {
     "name": "stdout",
     "output_type": "stream",
     "text": [
      "Execution time of 'can_perform': 1.9164962768554688 seconds\n",
      "Execution time of 'check_approval': 0.41414737701416016 seconds\n",
      "{'status': 'Approved'}\n"
     ]
    }
   ],
   "source": [
    "from apis.nexabot.guardrails import check_approval, can_perform\n",
    "\n",
    "def main():\n",
    "    result = can_perform(\"Search dns records of google.com\", \"nova\")\n",
    "\n",
    "    if len(result) > 0:\n",
    "        result = check_approval(\"Search dns records of google.com\", result[0])\n",
    "        print(result)\n",
    "\n",
    "\n",
    "\n",
    "if __name__==\"__main__\":\n",
    "    main()"
   ]
  },
  {
   "cell_type": "code",
   "execution_count": null,
   "metadata": {},
   "outputs": [],
   "source": []
  },
  {
   "cell_type": "code",
   "execution_count": null,
   "metadata": {},
   "outputs": [],
   "source": []
  },
  {
   "cell_type": "code",
   "execution_count": null,
   "metadata": {},
   "outputs": [],
   "source": []
  }
 ],
 "metadata": {
  "kernelspec": {
   "display_name": "nexaflow",
   "language": "python",
   "name": "python3"
  },
  "language_info": {
   "codemirror_mode": {
    "name": "ipython",
    "version": 3
   },
   "file_extension": ".py",
   "mimetype": "text/x-python",
   "name": "python",
   "nbconvert_exporter": "python",
   "pygments_lexer": "ipython3",
   "version": "3.12.5"
  }
 },
 "nbformat": 4,
 "nbformat_minor": 2
}
