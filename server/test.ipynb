{
 "cells": [
  {
   "cell_type": "code",
   "execution_count": 1,
   "metadata": {},
   "outputs": [
    {
     "name": "stderr",
     "output_type": "stream",
     "text": [
      "/home/abhishek/miniconda3/envs/nexaflow/lib/python3.12/site-packages/pinecone/data/index.py:1: TqdmWarning: IProgress not found. Please update jupyter and ipywidgets. See https://ipywidgets.readthedocs.io/en/stable/user_install.html\n",
      "  from tqdm.autonotebook import tqdm\n"
     ]
    },
    {
     "name": "stdout",
     "output_type": "stream",
     "text": [
      "sagemaker.config INFO - Not applying SDK defaults from location: /etc/xdg/sagemaker/config.yaml\n",
      "sagemaker.config INFO - Not applying SDK defaults from location: /home/abhishek/.config/sagemaker/config.yaml\n"
     ]
    }
   ],
   "source": [
    "from apis.nexabot.guardrails import can_perform, check_approval, check_available_docs\n",
    "from langchain_community.docstore.document import Document"
   ]
  },
  {
   "cell_type": "code",
   "execution_count": 2,
   "metadata": {},
   "outputs": [],
   "source": [
    "result = can_perform(\"tell me about abhishek mourya\", \"nova\")"
   ]
  },
  {
   "cell_type": "code",
   "execution_count": 4,
   "metadata": {},
   "outputs": [
    {
     "data": {
      "text/plain": [
       "[Document(id='cm202lolh0002ig3e1it8ixvh', metadata={}, page_content='\\n    Looks up DNS records for a given domain using the API Ninjas DNS Lookup API.\\n    \\n    This function sends a GET request to the API Ninjas DNS Lookup service with the provided domain name\\n    and retrieves the DNS records associated with it.\\n    \\n    Args:\\n        domain (str): The domain name for which to retrieve DNS records.\\n    \\n    Returns:\\n        str: The DNS records of the specified domain in text format if the request is successful.\\n        If the request fails, an error message and the response status code are printed.\\n    \\n    Raises:\\n        None: The function does not explicitly raise exceptions but will print error details if the request fails.\\n    ')]"
      ]
     },
     "execution_count": 4,
     "metadata": {},
     "output_type": "execute_result"
    }
   ],
   "source": [
    "result"
   ]
  },
  {
   "cell_type": "code",
   "execution_count": 5,
   "metadata": {},
   "outputs": [],
   "source": [
    "result2 = check_approval(\"search about abhishek mourya\", Document(page_content=\"For any else information you can perform the semantic search using this tool\"))"
   ]
  },
  {
   "cell_type": "code",
   "execution_count": 6,
   "metadata": {},
   "outputs": [
    {
     "data": {
      "text/plain": [
       "{'status': 'Disapproved',\n",
       " 'message': 'The query does not provide enough context or a clear topic to perform a semantic search.'}"
      ]
     },
     "execution_count": 6,
     "metadata": {},
     "output_type": "execute_result"
    }
   ],
   "source": [
    "result2"
   ]
  },
  {
   "cell_type": "code",
   "execution_count": 8,
   "metadata": {},
   "outputs": [
    {
     "data": {
      "text/plain": [
       "[(Document(id='cm1yivj0x0005vu3e4wtd751q', metadata={'page': 1.0, 'source': '/home/abhishek/deployments/nexaflow/server/temp/cm1yivhof0003vu3embjq7of5_8323762921.pdf'}, page_content='IGST  Rate: 5.0% IGST  Amount: 189.6\\nTotal Tax: 189.60\\nPlace of Supply: \\xa0\\xa0 Madhya Pradesh(23) \\xa0\\xa0\\xa0 State Name/Code of Supplier: \\xa0\\xa0 Delhi/DL\\nINSTRUCTIONS:\\n1. Prescribed Original ID proofs are:- Voter Identity Card / Passport / PAN Card / Driving License / Photo ID card issued by Central / State Govt. / Public\\nSector Undertakings of State  / Central Government ,District Administrations , Municipal bodies and Panchayat Administrations which are having serial\\nnumber / Student Identity Card with photograph issued by recognized School or College for their students / Nationalized Bank Passbook with photograph\\n/Credit Cards issued by Banks with laminated photog raph/Unique Identiﬁcation Card \"Aadhaar\", m-Aadhaar , e-Aadhaar . /Passenger showing the\\nAadhaar/Driving Licence from the \"Issued Document\" section by logging into his/her DigiLocker account considered as valid proof of identity .\\n(Documents uploaded by the user i.e. the document in \"Uploaded Document\" section will not be considered as a valid proof of identity).\\n2. PNRs having fully waitlisted  status will be dropped and automatic refund of the ticket amount after deducting the applicable CLERKAGE by Railway\\nshall be credited to the account used for payment for booking of the ticket. Passengers having fully waitlisted e-ticket are not allowed to board the train.\\nHowever , the names of P ARTIALL Y waitlisted/conﬁrmed and RAC ticket passenger will appear in the chart.\\n3. Passengers travelling on a fully waitlisted e-ticket will be treated as Ticketless.\\n4. Obtain certiﬁcate from the TTE /Conductor in case of (a) PARTIALL Y waitlisted e-ticket when LESS NO. OF PASSENGERS travel, (b)A.C FAILURE,\\n(c)TRA VEL  IN LOWER CLASS. This original certiﬁcate must be sent to GGM (IT), IRCTC, Internet Ticketing Centre, IRCA  Building, State Entry Road,\\nNew Delhi-1 10055 after ﬁling TDR online within prescribed time for claiming refund.\\n5. In case, on a party e-ticket or a family e-ticket issued for travel of more than one passenger , some passengers have conﬁrmed reservation and others are on\\nRAC or waiting list, full refund of fare, less clerkage, shall be admissible for conﬁrmed passengers also subject to the condition that the ticket shall be\\ncancelled online or online TDR shall be ﬁled for all the passengers upto thirty minutes before the scheduled departure of the train.\\n6. In case train is late more than 3 hours, refund is admissible as per railway refund rules only when TDR is ﬁled by the user before the actual departure of the\\ntrain at boarding station and passenger has not travelled.\\n7. In case of train cancellation on its entire run, full refund is granted automatically by the system. However , if the train is cancelled partially on its run or\\ndiverted and not touching boarding/destination station, passengers are required to ﬁle online TDR within 72 hours of scheduled departure of the train from\\npassengers boarding station.\\n8. Never purchas e e-ticket from unauthorized agents or persons using their personal IDs for commercial purposes. Such tickets are liable to be cancelled and\\nforfeited witho ut any refund of money , under section (143) of the Indian Railway Act 1989. List of authorized agents are available on www .irctc.co.in\\nunder \\'Find NGet Agents\\' option.\\n9. For detail, Rules, Refund rules, Terms & Conditions of E-T icketing services, Travel Insurance facility etc. Please visit www .irctc.co.in\\n10. While booking  this ticket, you have agreed of having read the Health Protocol of Destination State of your travel. You are again advised to clearly read the\\nHealth Protocol advisory of destination state before start of your travel and follow them properly .\\n11.The FIR forms are available with on board ticket checking staf f, train guard and train escorting RPF/GRP  staff.\\n12. Variety of meals available in more than 1500 trains. For delivery of meal of your choice on your seat log on to www .ecatering.irctc.co.in or call 1323 Toll'),\n",
       "  0.163172469),\n",
       " (Document(id='cm1yivj0x0006vu3evej3pvij', metadata={'page': 1.0, 'source': '/home/abhishek/deployments/nexaflow/server/temp/cm1yivhof0003vu3embjq7of5_8323762921.pdf'}, page_content='12. Variety of meals available in more than 1500 trains. For delivery of meal of your choice on your seat log on to www .ecatering.irctc.co.in or call 1323 Toll\\nFree. For any suggestions/complaints related to Catering services, contact Toll Free No. 1800-1 11-321 (07.00 hrs to 22.00 hrs)\\n13. National Consumer Helpline (NCH) Toll Free Number: 1800-1 1-400 or 14404\\n14. You can book unreserved ticket from UTS APP or ATVMs (Automatic Ticket Vending Machines) located in Railway Stations.\\n15. As per RBI guidelines, the refund of Ticket should be given in the same Bank account, which was used for booking . It is necessary that the Bank Account\\nused for booking online ticket should not be closed at least up to 30 days beyond the date of the journey . If accounts are found closed at the time of\\nprocessing refund, the refund will be regretted by the Bank.\\nCustomer  Car e:\\nFor e-ticket booking, cancellation and refund assistance, please contact us at 14646 or mail us at care@irctc.co.in.\\nFor Railway Enquiry , please contact us at 139 or SMS RAIL  to 139.\\nFor e-catering, to book and get food delivered on your train berth, please contact us at 1323 (24*7 Hrs Toll Free) or log on to\\nwww .ecatering.irctc.co.in.\\nPrint ERS W ithout Advertisements [X]'),\n",
       "  0.154411346),\n",
       " (Document(id='cm1yivr010009vu3ewagp5iud', metadata={'page': 0.0, 'source': '/home/abhishek/deployments/nexaflow/server/temp/cm1yivq440008vu3epxn84wcx_Aryan Karma Resume.pdf'}, page_content='Aryan Karma\\n+91-9098569620 |aryankarma29@gmail.com |github.com/aryankarma\\nlinkedin.com/in/aryankarma |Personal Portfolio\\nTechnical Skills\\nLanguages : C, C++, JavaScript, HTML/CSS\\nFrameworks or Libraries : React, SASS, Node.js, Firebase, MongoDB, Express.js, BootStrap, Tailwind,\\nMUI\\nCourse Work : Data Structure and Algorithm, Operating System, DBMS\\nOthers : Git/Github, Linux, Azure, Socket.IO, Figma, VS Code\\nProjects\\nDrawBoard |React, Rough.js, Socket IO, Firebase GitHub — Deployed\\n•Developed a full-stack web application using React and Rough.js for the front-end, and Firebase for\\nserverless DB functions.\\n•Rough.js library enables users to draw graphics with a hand-drawn, sketchy appearance on canvas.\\n•Firebase is utilized to store detailed drawing history data each time the user draws.\\n•Implemented a collaboration feature leveraging SocketIO technology (not-deployed).\\n•Implemented Google OAuth for authentication.\\n•DrawBoard is a whiteboard web application that allows users to draw while automatically saving all\\ndata. Key functionalities include undo, redo, collaboration, and more.\\nWeatherApp |React, Next.js, Recharts GitHub — Deployed\\n•Designed and developed a user-friendly web application that provides comprehensive weather information\\nfor multiple cities, emphasizing sleek and intuitive user interface design.\\n•Built and optimized using React JS & Next JS, achieving an impressive initial load time of\\napproximately 950ms and subsequent refresh times of just 300ms , ensuring seamless user\\ninteractions.\\n•Implemented methodologies like image quality adjustment, lazy loading, and debouncing technique,\\nresulting in a smooth user experience and a significant 20% improvement in loading times, even on\\nlimited bandwidth or slower internet connections as low as 20kb/s\\n•Designed a modern and elegant UI/UX with integrated animations, and implemented interactive charts\\nwith tooltips for enhanced data readability.\\nCertificates and Achievements\\n•Scored 2nd runner-up position in Clash 1.0 Hackathon organised by IndoriCoders\\n•Solved 100+ DSA Questions on platforms like Leetcode, CodeStudio etc. GitHub repository available at\\nLink\\n•Selected for final round of Wittyhacks 4.0 Hackathon among 1100+ teams\\nEducation\\nSage University Indore, India\\nBachelor of Technology in Computer Science, 4th sem SGPA - 8.33 2022 – 2026'),\n",
       "  0.150282383),\n",
       " (Document(id='cm1yivj0x0004vu3edt94e2nj', metadata={'page': 0.0, 'source': '/home/abhishek/deployments/nexaflow/server/temp/cm1yivhof0003vu3embjq7of5_8323762921.pdf'}, page_content='#Name Age Gender \\xa0\\xa0\\xa0\\xa0Booking Status \\xa0\\xa0\\xa0\\xa0Curr ent Status\\n1.ABHISHEK MOUR YA \\xa0\\xa021 \\xa0\\xa0\\xa0\\xa0M \\xa0\\xa0CNF /B5/3/UPPER \\xa0\\xa0CNF /B5/3/UPPER\\n2.ARYAN KARMA \\xa0\\xa020 \\xa0\\xa0\\xa0\\xa0M \\xa0\\xa0CNF /B5/5/MIDDLE \\xa0\\xa0CNF /B5/5/MIDDLE\\n3.MUSKAN JAIN \\xa0\\xa020 \\xa0\\xa0\\xa0\\xa0F \\xa0\\xa0CNF /B5/6/UPPER \\xa0\\xa0CNF /B5/6/UPPER\\nTransaction ID: 100005280872766\\nIR recovers only 57% of cost of travel on an average.\\nPayment Details\\n₹ 3,990.00\\n₹ 35.40\\n₹ 11.80\\n₹ 1.35\\n₹ 4,038.55\\nPG Char ges as applicable (Additional)\\nInvoice Number: PS248323762921 11 Address: Indian Railways New Delhi\\nSupplier  Information:\\nSAC Code: 996421 GSTIN: 07AAAGM0289C1ZL\\nRecipient Information:\\nGSTIN: NA\\nName: NA Address:\\nTaxable Value: 3792\\nCGST  Rate: 2.5% CGST  Amount: 0.0\\nSGST/UGST  Rate: SGST/UGST  Amount:Electr onic Reservation Slip (ERS) -Normal User\\nBooked Fr om\\n To\\nINDORE JN BG (INDB) INDORE JN BG (INDB) PUNE JN - PUNE (PUNE)\\nStart Date* 10-Oct-2024 Departur e* 16:30 10-Oct-2024 Arrival* 08:50 1 1-Oct-2024\\nPNR Train No./Name Class\\n8323762921 22944 / INDB DAUND EXP THIRD AC (3A)\\nQuota Distance Booking Date\\nGENERAL  (GN) 972 KM 28-Sep-2024 21:29:23 HRS\\nPassenger  Details\\nAcronyms: RLWL: REMOTE LOCA TION WAITLIST PQWL: POOLED QUOT A WAITLIST RSWL: ROAD-SIDE WAITLIST\\nBewar e of fraudulent customer  care number . For any assistance, use only the IRCTC e-ticketing Customer  care\\nnumber:14646.\\nIRCTC Convenience Fee is charged per  e-ticket irr espective of number  of passengers on the ticket.\\n* The printed Departur e and Arrival Times ar e liable to change. Please Check corr ect departur e, arrival fr om Railway Station\\nEnquiry or  Dial 139 or  SMS RAIL  to 139.\\nThis ticket is booked on a personal User ID, its sale/purchase is an of fence u/s 143 of the Railways Act,1989.\\nPrescribed original ID proof is required while travelling along with SMS/ VRM/ ERS otherwise  will be treated as without ticket\\nand penalized as per Railway Rules.\\nIndian Railways GST  Details:Ticket Fare\\nIRCTC Convenience Fee (Incl. of GST)\\neWallet Transaction Char ge\\nTravel Insurance Premium (Incl. of GST)\\nTotal Fare (all inclusive)'),\n",
       "  0.148357287)]"
      ]
     },
     "execution_count": 8,
     "metadata": {},
     "output_type": "execute_result"
    }
   ],
   "source": [
    "check_available_docs(\"aeroplane crash report\", \"nova\")"
   ]
  },
  {
   "cell_type": "code",
   "execution_count": null,
   "metadata": {},
   "outputs": [],
   "source": []
  }
 ],
 "metadata": {
  "kernelspec": {
   "display_name": "nexaflow",
   "language": "python",
   "name": "python3"
  },
  "language_info": {
   "codemirror_mode": {
    "name": "ipython",
    "version": 3
   },
   "file_extension": ".py",
   "mimetype": "text/x-python",
   "name": "python",
   "nbconvert_exporter": "python",
   "pygments_lexer": "ipython3",
   "version": "3.12.5"
  }
 },
 "nbformat": 4,
 "nbformat_minor": 2
}
