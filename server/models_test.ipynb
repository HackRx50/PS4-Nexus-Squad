{
 "cells": [
  {
   "cell_type": "code",
   "execution_count": 1,
   "metadata": {},
   "outputs": [],
   "source": [
    "from apps.apis.storage import models\n",
    "from apps.apis.storage.db import get_session"
   ]
  },
  {
   "cell_type": "code",
   "execution_count": 2,
   "metadata": {},
   "outputs": [],
   "source": [
    "session = get_session()"
   ]
  },
  {
   "cell_type": "code",
   "execution_count": 16,
   "metadata": {},
   "outputs": [
    {
     "name": "stdout",
     "output_type": "stream",
     "text": [
      "2024-09-11 12:29:35,919 INFO sqlalchemy.engine.Engine BEGIN (implicit)\n",
      "2024-09-11 12:29:35,923 INFO sqlalchemy.engine.Engine INSERT INTO users (uid, fullname, email, created_at, updated_at) VALUES (?, ?, ?, ?, ?)\n",
      "2024-09-11 12:29:35,924 INFO sqlalchemy.engine.Engine [generated in 0.00104s] ('cm0xu8fn70001nlpclah1myy9', 'Abhishek Mourya', 'abhishekmourya6774@gmail.com', '2024-09-11 12:29:35.923214', '2024-09-11 12:29:35.923221')\n",
      "2024-09-11 12:29:35,926 INFO sqlalchemy.engine.Engine COMMIT\n"
     ]
    }
   ],
   "source": [
    "user = models.User(fullname=\"Abhishek Mourya\", email=\"abhishekmourya6774@gmail.com\")\n",
    "session.add(user)\n",
    "session.commit()"
   ]
  },
  {
   "cell_type": "code",
   "execution_count": 28,
   "metadata": {},
   "outputs": [
    {
     "name": "stdout",
     "output_type": "stream",
     "text": [
      "2024-09-11 12:32:31,744 INFO sqlalchemy.engine.Engine SELECT users.uid AS users_uid, users.fullname AS users_fullname, users.email AS users_email, users.created_at AS users_created_at, users.updated_at AS users_updated_at \n",
      "FROM users \n",
      "WHERE users.email = ?\n",
      " LIMIT ? OFFSET ?\n",
      "2024-09-11 12:32:31,746 INFO sqlalchemy.engine.Engine [cached since 172s ago] ('abhishekmourya6774@gmail.com', 1, 0)\n"
     ]
    }
   ],
   "source": [
    "result = models.User.find_by_email(session, \"abhishekmourya6774@gmail.com\")"
   ]
  },
  {
   "cell_type": "code",
   "execution_count": 30,
   "metadata": {},
   "outputs": [
    {
     "data": {
      "text/plain": [
       "'cm0xu8fn70001nlpclah1myy9'"
      ]
     },
     "execution_count": 30,
     "metadata": {},
     "output_type": "execute_result"
    }
   ],
   "source": []
  },
  {
   "cell_type": "code",
   "execution_count": 22,
   "metadata": {},
   "outputs": [
    {
     "name": "stdout",
     "output_type": "stream",
     "text": [
      "2024-09-11 12:30:54,064 INFO sqlalchemy.engine.Engine SELECT users.uid AS users_uid, users.fullname AS users_fullname, users.email AS users_email, users.created_at AS users_created_at, users.updated_at AS users_updated_at \n",
      "FROM users \n",
      "WHERE users.email = ?\n",
      "2024-09-11 12:30:54,067 INFO sqlalchemy.engine.Engine [cached since 4.559s ago] ('abhishekmourya6774@gmail.com',)\n"
     ]
    }
   ],
   "source": [
    "result = session.query(models.User).filter(models.User.email==\"abhishekmourya6774@gmail.com\").all()"
   ]
  },
  {
   "cell_type": "code",
   "execution_count": 25,
   "metadata": {},
   "outputs": [
    {
     "name": "stdout",
     "output_type": "stream",
     "text": [
      "cm0xu8fn70001nlpclah1myy9\n"
     ]
    }
   ],
   "source": [
    "for user in result:\n",
    "    print(user.uid)"
   ]
  },
  {
   "cell_type": "code",
   "execution_count": 4,
   "metadata": {},
   "outputs": [],
   "source": [
    "agent = models.Agent(name=\"gem\", owner=\"cm0xu8fn70001nlpclah1myy9\")\n",
    "session.add(agent)\n",
    "session.commit()"
   ]
  },
  {
   "cell_type": "code",
   "execution_count": null,
   "metadata": {},
   "outputs": [],
   "source": []
  }
 ],
 "metadata": {
  "kernelspec": {
   "display_name": ".venv",
   "language": "python",
   "name": "python3"
  },
  "language_info": {
   "codemirror_mode": {
    "name": "ipython",
    "version": 3
   },
   "file_extension": ".py",
   "mimetype": "text/x-python",
   "name": "python",
   "nbconvert_exporter": "python",
   "pygments_lexer": "ipython3",
   "version": "3.12.3"
  }
 },
 "nbformat": 4,
 "nbformat_minor": 2
}
