{
 "cells": [
  {
   "cell_type": "code",
   "execution_count": 2,
   "metadata": {},
   "outputs": [
    {
     "ename": "ModuleNotFoundError",
     "evalue": "No module named 'apps'",
     "output_type": "error",
     "traceback": [
      "\u001b[0;31m---------------------------------------------------------------------------\u001b[0m",
      "\u001b[0;31mModuleNotFoundError\u001b[0m                       Traceback (most recent call last)",
      "Cell \u001b[0;32mIn[2], line 1\u001b[0m\n\u001b[0;32m----> 1\u001b[0m \u001b[38;5;28;01mfrom\u001b[39;00m \u001b[38;5;21;01mapps\u001b[39;00m\u001b[38;5;21;01m.\u001b[39;00m\u001b[38;5;21;01mapis\u001b[39;00m\u001b[38;5;21;01m.\u001b[39;00m\u001b[38;5;21;01mstorage\u001b[39;00m \u001b[38;5;28;01mimport\u001b[39;00m models\n\u001b[1;32m      2\u001b[0m \u001b[38;5;28;01mfrom\u001b[39;00m \u001b[38;5;21;01mapps\u001b[39;00m\u001b[38;5;21;01m.\u001b[39;00m\u001b[38;5;21;01mapis\u001b[39;00m\u001b[38;5;21;01m.\u001b[39;00m\u001b[38;5;21;01mstorage\u001b[39;00m\u001b[38;5;21;01m.\u001b[39;00m\u001b[38;5;21;01mdb\u001b[39;00m \u001b[38;5;28;01mimport\u001b[39;00m get_session\n",
      "\u001b[0;31mModuleNotFoundError\u001b[0m: No module named 'apps'"
     ]
    }
   ],
   "source": [
    "from apis.storage import models\n",
    "from apis.storage.db import get_session"
   ]
  },
  {
   "cell_type": "code",
   "execution_count": 2,
   "metadata": {},
   "outputs": [],
   "source": [
    "session = get_session()"
   ]
  },
  {
   "cell_type": "code",
   "execution_count": 16,
   "metadata": {},
   "outputs": [
    {
     "name": "stdout",
     "output_type": "stream",
     "text": [
      "2024-09-11 12:29:35,919 INFO sqlalchemy.engine.Engine BEGIN (implicit)\n",
      "2024-09-11 12:29:35,923 INFO sqlalchemy.engine.Engine INSERT INTO users (uid, fullname, email, created_at, updated_at) VALUES (?, ?, ?, ?, ?)\n",
      "2024-09-11 12:29:35,924 INFO sqlalchemy.engine.Engine [generated in 0.00104s] ('cm0xu8fn70001nlpclah1myy9', 'Abhishek Mourya', 'abhishekmourya6774@gmail.com', '2024-09-11 12:29:35.923214', '2024-09-11 12:29:35.923221')\n",
      "2024-09-11 12:29:35,926 INFO sqlalchemy.engine.Engine COMMIT\n"
     ]
    }
   ],
   "source": [
    "user = models.User(fullname=\"Abhishek Mourya\", email=\"abhishekmourya6774@gmail.com\")\n",
    "session.add(user)\n",
    "session.commit()"
   ]
  },
  {
   "cell_type": "code",
   "execution_count": 28,
   "metadata": {},
   "outputs": [
    {
     "name": "stdout",
     "output_type": "stream",
     "text": [
      "2024-09-11 12:32:31,744 INFO sqlalchemy.engine.Engine SELECT users.uid AS users_uid, users.fullname AS users_fullname, users.email AS users_email, users.created_at AS users_created_at, users.updated_at AS users_updated_at \n",
      "FROM users \n",
      "WHERE users.email = ?\n",
      " LIMIT ? OFFSET ?\n",
      "2024-09-11 12:32:31,746 INFO sqlalchemy.engine.Engine [cached since 172s ago] ('abhishekmourya6774@gmail.com', 1, 0)\n"
     ]
    }
   ],
   "source": [
    "result = models.User.find_by_email(session, \"abhishekmourya6774@gmail.com\")"
   ]
  },
  {
   "cell_type": "code",
   "execution_count": 30,
   "metadata": {},
   "outputs": [
    {
     "data": {
      "text/plain": [
       "'cm0xu8fn70001nlpclah1myy9'"
      ]
     },
     "execution_count": 30,
     "metadata": {},
     "output_type": "execute_result"
    }
   ],
   "source": []
  },
  {
   "cell_type": "code",
   "execution_count": 22,
   "metadata": {},
   "outputs": [
    {
     "name": "stdout",
     "output_type": "stream",
     "text": [
      "2024-09-11 12:30:54,064 INFO sqlalchemy.engine.Engine SELECT users.uid AS users_uid, users.fullname AS users_fullname, users.email AS users_email, users.created_at AS users_created_at, users.updated_at AS users_updated_at \n",
      "FROM users \n",
      "WHERE users.email = ?\n",
      "2024-09-11 12:30:54,067 INFO sqlalchemy.engine.Engine [cached since 4.559s ago] ('abhishekmourya6774@gmail.com',)\n"
     ]
    }
   ],
   "source": [
    "result = session.query(models.User).filter(models.User.email==\"abhishekmourya6774@gmail.com\").all()"
   ]
  },
  {
   "cell_type": "code",
   "execution_count": 25,
   "metadata": {},
   "outputs": [
    {
     "name": "stdout",
     "output_type": "stream",
     "text": [
      "cm0xu8fn70001nlpclah1myy9\n"
     ]
    }
   ],
   "source": [
    "for user in result:\n",
    "    print(user.uid)"
   ]
  },
  {
   "cell_type": "code",
   "execution_count": 4,
   "metadata": {},
   "outputs": [],
   "source": [
    "agent = models.Agent(name=\"gem\", owner=\"cm0xu8fn70001nlpclah1myy9\")\n",
    "session.add(agent)\n",
    "session.commit()"
   ]
  },
  {
   "cell_type": "code",
   "execution_count": 6,
   "metadata": {},
   "outputs": [
    {
     "name": "stdout",
     "output_type": "stream",
     "text": [
      "cm0xus9l80000lepc7zt4qmuk\n"
     ]
    }
   ],
   "source": [
    "user =  session.query(models.User).filter(models.User.email==\"abhishekmourya6774@gmail.com\").first()\n",
    "agents = user.get_agents_owned(session)\n",
    "\n",
    "for agent in agents:\n",
    "    print(agent.agid)"
   ]
  },
  {
   "cell_type": "code",
   "execution_count": 1,
   "metadata": {},
   "outputs": [
    {
     "name": "stdout",
     "output_type": "stream",
     "text": [
      "Invalid subdomains: ['-invalid', 'test_', 'root-']\n"
     ]
    }
   ],
   "source": [
    "from apis.agents.utils import invalid_subdomains"
   ]
  },
  {
   "cell_type": "code",
   "execution_count": 2,
   "metadata": {},
   "outputs": [],
   "source": [
    "from apis.storage.db import get_session\n",
    "from apis.storage.models import Agent"
   ]
  },
  {
   "cell_type": "code",
   "execution_count": 16,
   "metadata": {},
   "outputs": [],
   "source": [
    "\n",
    "def is_used_by_other(name: str):\n",
    "    session = get_session()\n",
    "    q = session.query(Agent).filter(Agent.name == name).all()\n",
    "    return len(q) > 0"
   ]
  },
  {
   "cell_type": "code",
   "execution_count": 17,
   "metadata": {},
   "outputs": [
    {
     "data": {
      "text/plain": [
       "True"
      ]
     },
     "execution_count": 17,
     "metadata": {},
     "output_type": "execute_result"
    }
   ],
   "source": [
    "is_used_by_other(\"gem\")"
   ]
  },
  {
   "cell_type": "code",
   "execution_count": 1,
   "metadata": {},
   "outputs": [],
   "source": [
    "user_id = \"cm0xu8fn70001nlpclah1myy9\"\n",
    "agent_id = \"cm0xxslyl0000a8pc698dk5i5\""
   ]
  },
  {
   "cell_type": "code",
   "execution_count": 2,
   "metadata": {},
   "outputs": [],
   "source": [
    "from apis.actions.utils import store_actions, create_action_file"
   ]
  },
  {
   "cell_type": "code",
   "execution_count": 8,
   "metadata": {},
   "outputs": [],
   "source": [
    "code = \"\"\"\n",
    "\n",
    "\n",
    "def get_random_users(count: int) -> list:\n",
    "    \\\"\\\"\\\"\n",
    "    Generate and return a list of random user details.\n",
    "\n",
    "    Args:\n",
    "        count (int): The number of random users to generate.\n",
    "\n",
    "    Returns:\n",
    "        list: A list of dictionaries, each containing user details with the following keys:\n",
    "            - name (str): The user's full name (first and last name).\n",
    "            - email (str): The user's email address.\n",
    "            - phone (str): The user's phone number.\n",
    "    \\\"\\\"\\\"\n",
    "    import randomuser\n",
    "    user_generator = randomuser.RandomUser()\n",
    "    users = [user_generator.generate_users()[0] for _ in range(count)]\n",
    "\n",
    "    user_list = []\n",
    "    for user in users:\n",
    "        user_details = {\n",
    "            \"name\": f\"{user['name']['first']} {user['name']['last']}\",\n",
    "            \"email\": user['email'],\n",
    "            \"phone\": user['phone']\n",
    "        }\n",
    "        user_list.append(user_details)\n",
    "    \n",
    "    return user_list\n",
    "\n",
    "\n",
    "def get_random_users_2(count: int) -> list:\n",
    "    \\\"\\\"\\\"\n",
    "    Generate and return a list of random user details.\n",
    "\n",
    "    Args:\n",
    "        count (int): The number of random users to generate.\n",
    "\n",
    "    Returns:\n",
    "        list: A list of dictionaries, each containing user details with the following keys:\n",
    "            - name (str): The user's full name (first and last name).\n",
    "            - email (str): The user's email address.\n",
    "            - phone (str): The user's phone number.\n",
    "    \\\"\\\"\\\"\n",
    "    import randomuser\n",
    "    user_generator = randomuser.RandomUser()\n",
    "    users = [user_generator.generate_users()[0] for _ in range(count)]\n",
    "\n",
    "    user_list = []\n",
    "    for user in users:\n",
    "        user_details = {\n",
    "            \"name\": f\"{user['name']['first']} {user['name']['last']}\",\n",
    "            \"email\": user['email'],\n",
    "            \"phone\": user['phone']\n",
    "        }\n",
    "        user_list.append(user_details)\n",
    "    \n",
    "    return user_list\n",
    "\n",
    "\n",
    "\"\"\""
   ]
  },
  {
   "cell_type": "code",
   "execution_count": 11,
   "metadata": {},
   "outputs": [],
   "source": [
    "module_name = create_action_file(code)"
   ]
  },
  {
   "cell_type": "code",
   "execution_count": 12,
   "metadata": {},
   "outputs": [
    {
     "data": {
      "text/plain": [
       "[{'_sa_instance_state': <sqlalchemy.orm.state.InstanceState at 0x7b16dd5ba990>},\n",
       " {'_sa_instance_state': <sqlalchemy.orm.state.InstanceState at 0x7b16dd5bab70>}]"
      ]
     },
     "execution_count": 12,
     "metadata": {},
     "output_type": "execute_result"
    }
   ],
   "source": [
    "actions = store_actions(module_name, \"random_user\", \"python\", agent_id, user_id)\n",
    "actions"
   ]
  },
  {
   "cell_type": "code",
   "execution_count": 16,
   "metadata": {},
   "outputs": [
    {
     "ename": "AttributeError",
     "evalue": "'InstanceState' object has no attribute 'aid'",
     "output_type": "error",
     "traceback": [
      "\u001b[0;31m---------------------------------------------------------------------------\u001b[0m",
      "\u001b[0;31mAttributeError\u001b[0m                            Traceback (most recent call last)",
      "Cell \u001b[0;32mIn[16], line 1\u001b[0m\n\u001b[0;32m----> 1\u001b[0m \u001b[43mactions\u001b[49m\u001b[43m[\u001b[49m\u001b[38;5;241;43m0\u001b[39;49m\u001b[43m]\u001b[49m\u001b[43m[\u001b[49m\u001b[38;5;124;43m'\u001b[39;49m\u001b[38;5;124;43m_sa_instance_state\u001b[39;49m\u001b[38;5;124;43m'\u001b[39;49m\u001b[43m]\u001b[49m\u001b[38;5;241;43m.\u001b[39;49m\u001b[43maid\u001b[49m\n",
      "\u001b[0;31mAttributeError\u001b[0m: 'InstanceState' object has no attribute 'aid'"
     ]
    }
   ],
   "source": [
    "actions[0]['_sa_instance_state']"
   ]
  },
  {
   "cell_type": "code",
   "execution_count": 17,
   "metadata": {},
   "outputs": [],
   "source": [
    "from apis.storage.models import Action"
   ]
  },
  {
   "cell_type": "code",
   "execution_count": 18,
   "metadata": {},
   "outputs": [],
   "source": [
    "action = Action.create(\"r_u\", \"dkk\",  \"djjdn\", \"python\", agent_id, user_id)"
   ]
  },
  {
   "cell_type": "code",
   "execution_count": 22,
   "metadata": {},
   "outputs": [
    {
     "ename": "DetachedInstanceError",
     "evalue": "Instance <Action at 0x7b16de4449e0> is not bound to a Session; attribute refresh operation cannot proceed (Background on this error at: https://sqlalche.me/e/20/bhk3)",
     "output_type": "error",
     "traceback": [
      "\u001b[0;31m---------------------------------------------------------------------------\u001b[0m",
      "\u001b[0;31mDetachedInstanceError\u001b[0m                     Traceback (most recent call last)",
      "Cell \u001b[0;32mIn[22], line 1\u001b[0m\n\u001b[0;32m----> 1\u001b[0m \u001b[43maction\u001b[49m\u001b[38;5;241;43m.\u001b[39;49m\u001b[43magent\u001b[49m\n",
      "File \u001b[0;32m~/architecture/nexaflow/.venv/lib/python3.12/site-packages/sqlalchemy/orm/attributes.py:566\u001b[0m, in \u001b[0;36mInstrumentedAttribute.__get__\u001b[0;34m(self, instance, owner)\u001b[0m\n\u001b[1;32m    564\u001b[0m \u001b[38;5;28;01mexcept\u001b[39;00m \u001b[38;5;167;01mAttributeError\u001b[39;00m \u001b[38;5;28;01mas\u001b[39;00m err:\n\u001b[1;32m    565\u001b[0m     \u001b[38;5;28;01mraise\u001b[39;00m orm_exc\u001b[38;5;241m.\u001b[39mUnmappedInstanceError(instance) \u001b[38;5;28;01mfrom\u001b[39;00m \u001b[38;5;21;01merr\u001b[39;00m\n\u001b[0;32m--> 566\u001b[0m \u001b[38;5;28;01mreturn\u001b[39;00m \u001b[38;5;28;43mself\u001b[39;49m\u001b[38;5;241;43m.\u001b[39;49m\u001b[43mimpl\u001b[49m\u001b[38;5;241;43m.\u001b[39;49m\u001b[43mget\u001b[49m\u001b[43m(\u001b[49m\u001b[43mstate\u001b[49m\u001b[43m,\u001b[49m\u001b[43m \u001b[49m\u001b[43mdict_\u001b[49m\u001b[43m)\u001b[49m\n",
      "File \u001b[0;32m~/architecture/nexaflow/.venv/lib/python3.12/site-packages/sqlalchemy/orm/attributes.py:1086\u001b[0m, in \u001b[0;36mAttributeImpl.get\u001b[0;34m(self, state, dict_, passive)\u001b[0m\n\u001b[1;32m   1083\u001b[0m \u001b[38;5;28;01mif\u001b[39;00m \u001b[38;5;129;01mnot\u001b[39;00m passive \u001b[38;5;241m&\u001b[39m CALLABLES_OK:\n\u001b[1;32m   1084\u001b[0m     \u001b[38;5;28;01mreturn\u001b[39;00m PASSIVE_NO_RESULT\n\u001b[0;32m-> 1086\u001b[0m value \u001b[38;5;241m=\u001b[39m \u001b[38;5;28;43mself\u001b[39;49m\u001b[38;5;241;43m.\u001b[39;49m\u001b[43m_fire_loader_callables\u001b[49m\u001b[43m(\u001b[49m\u001b[43mstate\u001b[49m\u001b[43m,\u001b[49m\u001b[43m \u001b[49m\u001b[43mkey\u001b[49m\u001b[43m,\u001b[49m\u001b[43m \u001b[49m\u001b[43mpassive\u001b[49m\u001b[43m)\u001b[49m\n\u001b[1;32m   1088\u001b[0m \u001b[38;5;28;01mif\u001b[39;00m value \u001b[38;5;129;01mis\u001b[39;00m PASSIVE_NO_RESULT \u001b[38;5;129;01mor\u001b[39;00m value \u001b[38;5;129;01mis\u001b[39;00m NO_VALUE:\n\u001b[1;32m   1089\u001b[0m     \u001b[38;5;28;01mreturn\u001b[39;00m value\n",
      "File \u001b[0;32m~/architecture/nexaflow/.venv/lib/python3.12/site-packages/sqlalchemy/orm/attributes.py:1116\u001b[0m, in \u001b[0;36mAttributeImpl._fire_loader_callables\u001b[0;34m(self, state, key, passive)\u001b[0m\n\u001b[1;32m   1108\u001b[0m \u001b[38;5;28;01mdef\u001b[39;00m \u001b[38;5;21m_fire_loader_callables\u001b[39m(\n\u001b[1;32m   1109\u001b[0m     \u001b[38;5;28mself\u001b[39m, state: InstanceState[Any], key: \u001b[38;5;28mstr\u001b[39m, passive: PassiveFlag\n\u001b[1;32m   1110\u001b[0m ) \u001b[38;5;241m-\u001b[39m\u001b[38;5;241m>\u001b[39m Any:\n\u001b[1;32m   1111\u001b[0m     \u001b[38;5;28;01mif\u001b[39;00m (\n\u001b[1;32m   1112\u001b[0m         \u001b[38;5;28mself\u001b[39m\u001b[38;5;241m.\u001b[39maccepts_scalar_loader\n\u001b[1;32m   1113\u001b[0m         \u001b[38;5;129;01mand\u001b[39;00m \u001b[38;5;28mself\u001b[39m\u001b[38;5;241m.\u001b[39mload_on_unexpire\n\u001b[1;32m   1114\u001b[0m         \u001b[38;5;129;01mand\u001b[39;00m key \u001b[38;5;129;01min\u001b[39;00m state\u001b[38;5;241m.\u001b[39mexpired_attributes\n\u001b[1;32m   1115\u001b[0m     ):\n\u001b[0;32m-> 1116\u001b[0m         \u001b[38;5;28;01mreturn\u001b[39;00m \u001b[43mstate\u001b[49m\u001b[38;5;241;43m.\u001b[39;49m\u001b[43m_load_expired\u001b[49m\u001b[43m(\u001b[49m\u001b[43mstate\u001b[49m\u001b[43m,\u001b[49m\u001b[43m \u001b[49m\u001b[43mpassive\u001b[49m\u001b[43m)\u001b[49m\n\u001b[1;32m   1117\u001b[0m     \u001b[38;5;28;01melif\u001b[39;00m key \u001b[38;5;129;01min\u001b[39;00m state\u001b[38;5;241m.\u001b[39mcallables:\n\u001b[1;32m   1118\u001b[0m         callable_ \u001b[38;5;241m=\u001b[39m state\u001b[38;5;241m.\u001b[39mcallables[key]\n",
      "File \u001b[0;32m~/architecture/nexaflow/.venv/lib/python3.12/site-packages/sqlalchemy/orm/state.py:803\u001b[0m, in \u001b[0;36mInstanceState._load_expired\u001b[0;34m(self, state, passive)\u001b[0m\n\u001b[1;32m    796\u001b[0m toload \u001b[38;5;241m=\u001b[39m \u001b[38;5;28mself\u001b[39m\u001b[38;5;241m.\u001b[39mexpired_attributes\u001b[38;5;241m.\u001b[39mintersection(\u001b[38;5;28mself\u001b[39m\u001b[38;5;241m.\u001b[39munmodified)\n\u001b[1;32m    797\u001b[0m toload \u001b[38;5;241m=\u001b[39m toload\u001b[38;5;241m.\u001b[39mdifference(\n\u001b[1;32m    798\u001b[0m     attr\n\u001b[1;32m    799\u001b[0m     \u001b[38;5;28;01mfor\u001b[39;00m attr \u001b[38;5;129;01min\u001b[39;00m toload\n\u001b[1;32m    800\u001b[0m     \u001b[38;5;28;01mif\u001b[39;00m \u001b[38;5;129;01mnot\u001b[39;00m \u001b[38;5;28mself\u001b[39m\u001b[38;5;241m.\u001b[39mmanager[attr]\u001b[38;5;241m.\u001b[39mimpl\u001b[38;5;241m.\u001b[39mload_on_unexpire\n\u001b[1;32m    801\u001b[0m )\n\u001b[0;32m--> 803\u001b[0m \u001b[38;5;28;43mself\u001b[39;49m\u001b[38;5;241;43m.\u001b[39;49m\u001b[43mmanager\u001b[49m\u001b[38;5;241;43m.\u001b[39;49m\u001b[43mexpired_attribute_loader\u001b[49m\u001b[43m(\u001b[49m\u001b[38;5;28;43mself\u001b[39;49m\u001b[43m,\u001b[49m\u001b[43m \u001b[49m\u001b[43mtoload\u001b[49m\u001b[43m,\u001b[49m\u001b[43m \u001b[49m\u001b[43mpassive\u001b[49m\u001b[43m)\u001b[49m\n\u001b[1;32m    805\u001b[0m \u001b[38;5;66;03m# if the loader failed, or this\u001b[39;00m\n\u001b[1;32m    806\u001b[0m \u001b[38;5;66;03m# instance state didn't have an identity,\u001b[39;00m\n\u001b[1;32m    807\u001b[0m \u001b[38;5;66;03m# the attributes still might be in the callables\u001b[39;00m\n\u001b[1;32m    808\u001b[0m \u001b[38;5;66;03m# dict.  ensure they are removed.\u001b[39;00m\n\u001b[1;32m    809\u001b[0m \u001b[38;5;28mself\u001b[39m\u001b[38;5;241m.\u001b[39mexpired_attributes\u001b[38;5;241m.\u001b[39mclear()\n",
      "File \u001b[0;32m~/architecture/nexaflow/.venv/lib/python3.12/site-packages/sqlalchemy/orm/loading.py:1603\u001b[0m, in \u001b[0;36mload_scalar_attributes\u001b[0;34m(mapper, state, attribute_names, passive)\u001b[0m\n\u001b[1;32m   1601\u001b[0m session \u001b[38;5;241m=\u001b[39m state\u001b[38;5;241m.\u001b[39msession\n\u001b[1;32m   1602\u001b[0m \u001b[38;5;28;01mif\u001b[39;00m \u001b[38;5;129;01mnot\u001b[39;00m session:\n\u001b[0;32m-> 1603\u001b[0m     \u001b[38;5;28;01mraise\u001b[39;00m orm_exc\u001b[38;5;241m.\u001b[39mDetachedInstanceError(\n\u001b[1;32m   1604\u001b[0m         \u001b[38;5;124m\"\u001b[39m\u001b[38;5;124mInstance \u001b[39m\u001b[38;5;132;01m%s\u001b[39;00m\u001b[38;5;124m is not bound to a Session; \u001b[39m\u001b[38;5;124m\"\u001b[39m\n\u001b[1;32m   1605\u001b[0m         \u001b[38;5;124m\"\u001b[39m\u001b[38;5;124mattribute refresh operation cannot proceed\u001b[39m\u001b[38;5;124m\"\u001b[39m \u001b[38;5;241m%\u001b[39m (state_str(state))\n\u001b[1;32m   1606\u001b[0m     )\n\u001b[1;32m   1608\u001b[0m no_autoflush \u001b[38;5;241m=\u001b[39m \u001b[38;5;28mbool\u001b[39m(passive \u001b[38;5;241m&\u001b[39m attributes\u001b[38;5;241m.\u001b[39mNO_AUTOFLUSH)\n\u001b[1;32m   1610\u001b[0m \u001b[38;5;66;03m# in the case of inheritance, particularly concrete and abstract\u001b[39;00m\n\u001b[1;32m   1611\u001b[0m \u001b[38;5;66;03m# concrete inheritance, the class manager might have some keys\u001b[39;00m\n\u001b[1;32m   1612\u001b[0m \u001b[38;5;66;03m# of attributes on the superclass that we didn't actually map.\u001b[39;00m\n\u001b[1;32m   1613\u001b[0m \u001b[38;5;66;03m# These could be mapped as \"concrete, don't load\" or could be completely\u001b[39;00m\n\u001b[1;32m   1614\u001b[0m \u001b[38;5;66;03m# excluded from the mapping and we know nothing about them.  Filter them\u001b[39;00m\n\u001b[1;32m   1615\u001b[0m \u001b[38;5;66;03m# here to prevent them from coming through.\u001b[39;00m\n",
      "\u001b[0;31mDetachedInstanceError\u001b[0m: Instance <Action at 0x7b16de4449e0> is not bound to a Session; attribute refresh operation cannot proceed (Background on this error at: https://sqlalche.me/e/20/bhk3)"
     ]
    }
   ],
   "source": [
    "action.agent"
   ]
  },
  {
   "cell_type": "code",
   "execution_count": 1,
   "metadata": {},
   "outputs": [
    {
     "name": "stderr",
     "output_type": "stream",
     "text": [
      "/Users/abhishek/Desktop/letsfix/nexaflow/.venv/lib/python3.12/site-packages/pinecone/data/index.py:1: TqdmWarning: IProgress not found. Please update jupyter and ipywidgets. See https://ipywidgets.readthedocs.io/en/stable/user_install.html\n",
      "  from tqdm.autonotebook import tqdm\n"
     ]
    }
   ],
   "source": [
    "from nexabot.features import get_vector_tool\n",
    "\n",
    "vector_search_tool = get_vector_tool(\"avnica\")"
   ]
  },
  {
   "cell_type": "code",
   "execution_count": 2,
   "metadata": {},
   "outputs": [
    {
     "name": "stderr",
     "output_type": "stream",
     "text": [
      "/Users/abhishek/Desktop/letsfix/nexaflow/.venv/lib/python3.12/site-packages/langchain_mistralai/embeddings.py:166: UserWarning: Could not download mistral tokenizer from Huggingface for calculating batch sizes. Set a Huggingface token via the HF_TOKEN environment variable to download the real tokenizer. Falling back to a dummy tokenizer that uses `len()`.\n",
      "  warnings.warn(\n"
     ]
    },
    {
     "data": {
      "text/plain": [
       "[Document(metadata={'page': 0.0, 'source': '/Users/abhishek/Desktop/letsfix/nexaflow/server/temp/cm0zhai9m0000qjsbpi6ufsd1_Abhishek_Resume_30_Aug.pdf'}, page_content='Abhishek Mourya | Full Stack Developer\\nPithampur , Madh ya Pradesh | +91-9039515936 |\\nabhishekmouyr a6774@gmai l.com\\nSkills:  Linux Administr ation, Node.js, Angular , React, Google Cloud, Flut ter, Expr ess.js,\\nGit, SQL, T ypeScript, Dock er, GitHub Actions, K ubernetes, kubectl, k9s\\nProjects\\nKriyeta:  A full-stack web app f or creating, edi ting, and sharing Markdown posts wi th\\nversioning and social f eatures. Tech: R eact, Node.js, Expr ess.js, MongoDB , JWT . link\\nMeetGaze:  Real-time video conf erencing app wi th chat, scr een sharing, and r esponsiv e\\ndesign. Tech: R eact, T ypeScript, W ebRTC, Socket.io, MongoDB . link\\nLiveDB:  A real-time database f ramework, simi lar to Fir estore, reflecting data changes\\ninstantly . Tech: Node.js, Expr ess.js, S ocket.IO, MongoDB , Prisma, T ypeScript. link\\nUniHosp:  Digital heal thcare platf orm f or managing and centr alizing medical r ecords\\nacross India, enabl ing seamless ac cess and contr ol over heal th profiles. Tech: Angular ,\\nNode.js, Nest.js, Prisma ORM, Google Cloud, T ypeScript. link\\nGitHub Actions, Docker And Cloud Run:  A sample pr oject demonstr ating CI/CD wi th\\nGitHub Actions, Dock er, and Google Cloud R un. Features include fl ight sear ch/booking API\\nand a r andom quote gener ator. Tech: Node.js, Expr ess, T ypeScript, Dock er, GitHub\\nActions, Google Cloud R un. link\\nKubernetes-Learning:  A project demonstr ating K ubernetes deplo yment and service\\nconfigur ation f or a simple Hel lo World appl ication. I ncludes setup of a cluster , deplo yment\\nmanagement, and load balancing. Tech: K ubernetes, Dock er, kubectl, k9s, Cloud Pr ovider\\n(GCP/A WS/Azur e). link\\nHackathons\\nSolving F or India (2nd Round Qual ified) Kriyeta (Acr opolis) Prayatna (Acr opolis)\\nWittyHacks (NMIMS) Clash 1.0 (Winner) 🏆\\nLanguages\\nTypescript, Ja vascript, Python, Dart, C++, C, Go\\nEducation\\nSage University, Indore\\nBachelors in Computer Science'),\n",
       " Document(metadata={'page': 0.0, 'source': '/Users/abhishek/Desktop/letsfix/nexaflow/server/temp/cm0zhcuuc0000tksb9grpvwlq_Abhishek_Resume_30_Aug.pdf'}, page_content='Abhishek Mourya | Full Stack Developer\\nPithampur , Madh ya Pradesh | +91-9039515936 |\\nabhishekmouyr a6774@gmai l.com\\nSkills:  Linux Administr ation, Node.js, Angular , React, Google Cloud, Flut ter, Expr ess.js,\\nGit, SQL, T ypeScript, Dock er, GitHub Actions, K ubernetes, kubectl, k9s\\nProjects\\nKriyeta:  A full-stack web app f or creating, edi ting, and sharing Markdown posts wi th\\nversioning and social f eatures. Tech: R eact, Node.js, Expr ess.js, MongoDB , JWT . link\\nMeetGaze:  Real-time video conf erencing app wi th chat, scr een sharing, and r esponsiv e\\ndesign. Tech: R eact, T ypeScript, W ebRTC, Socket.io, MongoDB . link\\nLiveDB:  A real-time database f ramework, simi lar to Fir estore, reflecting data changes\\ninstantly . Tech: Node.js, Expr ess.js, S ocket.IO, MongoDB , Prisma, T ypeScript. link\\nUniHosp:  Digital heal thcare platf orm f or managing and centr alizing medical r ecords\\nacross India, enabl ing seamless ac cess and contr ol over heal th profiles. Tech: Angular ,\\nNode.js, Nest.js, Prisma ORM, Google Cloud, T ypeScript. link\\nGitHub Actions, Docker And Cloud Run:  A sample pr oject demonstr ating CI/CD wi th\\nGitHub Actions, Dock er, and Google Cloud R un. Features include fl ight sear ch/booking API\\nand a r andom quote gener ator. Tech: Node.js, Expr ess, T ypeScript, Dock er, GitHub\\nActions, Google Cloud R un. link\\nKubernetes-Learning:  A project demonstr ating K ubernetes deplo yment and service\\nconfigur ation f or a simple Hel lo World appl ication. I ncludes setup of a cluster , deplo yment\\nmanagement, and load balancing. Tech: K ubernetes, Dock er, kubectl, k9s, Cloud Pr ovider\\n(GCP/A WS/Azur e). link\\nHackathons\\nSolving F or India (2nd Round Qual ified) Kriyeta (Acr opolis) Prayatna (Acr opolis)\\nWittyHacks (NMIMS) Clash 1.0 (Winner) 🏆\\nLanguages\\nTypescript, Ja vascript, Python, Dart, C++, C, Go\\nEducation\\nSage University, Indore\\nBachelors in Computer Science'),\n",
       " Document(metadata={'page': 0.0, 'source': '/Users/abhishek/Desktop/letsfix/nexaflow/server/temp/cm0zgfbq60000ofsbpuuoefra_Anshu_Mourya_Updated_Resume.pdf'}, page_content='Anshu Mourya  \\nMobile: +91 626 -193 -8873 | Email: Anshumourya9999@gmail.com | Location: Indore, India  \\nProfile  \\nHighly motivated and passionate B.Tech  student in Computer Science and Engineering with \\na strong foundation in web development and a keen interest in Python programming. \\nAspiring to apply my skills in data science within an innovative environment to learn, grow, \\nand contribute to meaningful projects.  \\nEducation  \\nIndore Institute of Science and Technology  \\nB.Tech in Computer Science and Engineering | CGPA: 8.89 (3rd Year)  \\nExpected Graduation: 2024  \\nNew Pithampur Public School  \\n12th Standard - MP Board | Percentage: 78%  \\nGraduation Year: 2020  \\nNew Pithampur Public School  \\n10th Standard - MP Board | Percentage: 86.60%  \\nGraduation Year: 2018  \\nWork Experience  \\nNeevCloud  \\nCloud Consultant | Current Position  \\n• Engaged in cloud architecture and solution implementation.  \\n• Provided guidance on cloud strategy and best practices.  \\nProjects  \\nWeather Application Website (Minor Project)  \\nRole: Front -End Developer | Team Size: 4'),\n",
       " Document(metadata={'page': 0.0, 'source': '/Users/abhishek/Desktop/letsfix/nexaflow/server/temp/cm0zhg03m00002esb0qflo3zg_Rewrite Documentation Taking Application.pdf'}, page_content='Rewrite Documentation Taking Application A Dissertation Work Submitted in partial fulfilment of  The requirement for the award of the Degree of Bachelors in engineering In Computer Science & Engineering Department Submitted To     Rajiv Gandhi Proudyogiki Vishwavidyalaya, Bhopal  MP     Computer Science and Engineering Department INDORE INSTITUTE OF SCIENCE AND TECHNOLOGY PITHAMPUR ROAD, OPPOSITE IIM, RAU, INDORE 453331 M.P. (ACCREDITED BY NBA, AFFILATED TO RGPV BHOPAL, APPROVED BY AICTE NEW DELHI) July 2024 \\nSubmitted By Ms. Anshu Mourya 0818CS201023 Under guidance of  Mr. Rakesh Jain Assistant Professor')]"
      ]
     },
     "execution_count": 2,
     "metadata": {},
     "output_type": "execute_result"
    }
   ],
   "source": [
    "vector_search_tool(\"Who is Abhishek?\")"
   ]
  },
  {
   "cell_type": "code",
   "execution_count": 1,
   "metadata": {},
   "outputs": [],
   "source": [
    "from nexabot.features import SessionManager\n",
    "\n",
    "session_manager = SessionManager()"
   ]
  },
  {
   "cell_type": "code",
   "execution_count": 2,
   "metadata": {},
   "outputs": [],
   "source": [
    "import cuid\n",
    "sid = cuid.cuid()"
   ]
  },
  {
   "cell_type": "code",
   "execution_count": 1,
   "metadata": {},
   "outputs": [],
   "source": [
    "from langchain_core.messages import ChatMessage, HumanMessage, AIMessage, ToolMessage"
   ]
  },
  {
   "cell_type": "code",
   "execution_count": 2,
   "metadata": {},
   "outputs": [],
   "source": [
    "hm = HumanMessage(content=\"What the heck?\")\n",
    "aim = AIMessage(content=\"What the heck?\")\n"
   ]
  },
  {
   "cell_type": "code",
   "execution_count": 16,
   "metadata": {},
   "outputs": [
    {
     "name": "stdout",
     "output_type": "stream",
     "text": [
      "{\"content\": \"What the heck?\", \"additional_kwargs\": {}, \"response_metadata\": {}, \"type\": \"human\", \"name\": null, \"id\": null, \"example\": false}\n"
     ]
    }
   ],
   "source": [
    "import json\n",
    "print(hm.json())\n",
    "msg = json.loads(hm.json())"
   ]
  },
  {
   "cell_type": "code",
   "execution_count": 3,
   "metadata": {},
   "outputs": [
    {
     "data": {
      "text/plain": [
       "'{\"content\": \"What the heck?\", \"additional_kwargs\": {}, \"response_metadata\": {}, \"type\": \"human\", \"name\": null, \"id\": null, \"example\": false}'"
      ]
     },
     "execution_count": 3,
     "metadata": {},
     "output_type": "execute_result"
    }
   ],
   "source": [
    "hm.json()"
   ]
  },
  {
   "cell_type": "code",
   "execution_count": 3,
   "metadata": {},
   "outputs": [
    {
     "data": {
      "text/plain": [
       "{'content': 'What the heck?',\n",
       " 'additional_kwargs': {},\n",
       " 'response_metadata': {},\n",
       " 'type': 'human',\n",
       " 'name': None,\n",
       " 'id': None,\n",
       " 'example': False}"
      ]
     },
     "execution_count": 3,
     "metadata": {},
     "output_type": "execute_result"
    }
   ],
   "source": [
    "hm.__dict__"
   ]
  },
  {
   "cell_type": "code",
   "execution_count": null,
   "metadata": {},
   "outputs": [],
   "source": []
  }
 ],
 "metadata": {
  "kernelspec": {
   "display_name": ".venv",
   "language": "python",
   "name": "python3"
  },
  "language_info": {
   "codemirror_mode": {
    "name": "ipython",
    "version": 3
   },
   "file_extension": ".py",
   "mimetype": "text/x-python",
   "name": "python",
   "nbconvert_exporter": "python",
   "pygments_lexer": "ipython3",
   "version": "3.12.2"
  }
 },
 "nbformat": 4,
 "nbformat_minor": 2
}
