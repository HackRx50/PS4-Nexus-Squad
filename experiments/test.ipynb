{
 "cells": [
  {
   "cell_type": "code",
   "execution_count": null,
   "metadata": {},
   "outputs": [],
   "source": [
    "from langgraph.prebuilt import create_react_agent\n",
    "from langchain_mistralai import ChatMistralAI\n",
    "from langchain_community.tools import tool\n",
    "import json\n",
    "from dotenv import load_dotenv\n",
    "load_dotenv()\n",
    "from langchain_core.messages import HumanMessage\n",
    "import asyncio\n",
    "from pprint import pprint\n",
    "\n",
    "llm = ChatMistralAI(model_name=\"mistral-large-latest\")\n",
    "\n",
    "tools = []\n",
    "\n",
    "# data = None\n",
    "# with open('actions.json', 'r') as file:\n",
    "#     data = json.load(file)\n",
    "\n",
    "\n",
    "# def parse_id(id_string):\n",
    "#     return id_string.split('_', 1)[1] if '_' in id_string else id_string\n",
    "\n",
    "# for action in data['actions']:\n",
    "#     exec(action['code'])\n",
    "#     tools.append(globals()[parse_id(action['title'])])\n",
    "\n",
    "@tool\n",
    "def get_geocoding(city) -> list:\n",
    "    \"\"\"\n",
    "    Retrieve latitude and longitude of a city via API.\n",
    "\n",
    "    Args:\n",
    "        city (str): City name.\n",
    "\n",
    "    Returns:\n",
    "        list: A list of geocoding data containing 'name', 'latitude', 'longitude', and 'country'.\n",
    "              Example:\n",
    "              [\n",
    "                  {\n",
    "                      \"name\": \"City Name\",\n",
    "                      \"latitude\": 12.34,\n",
    "                      \"longitude\": 56.78,\n",
    "                      \"country\": \"Country Name\"\n",
    "                  }\n",
    "              ]\n",
    "              \n",
    "              Prints error message and status code if the request fails.\n",
    "    \"\"\"\n",
    "\n",
    "    import requests\n",
    "    api_url = 'https://api.api-ninjas.com/v1/geocoding?city={}'.format(city)\n",
    "    response = requests.get(api_url, headers={'X-Api-Key': \"meaUO1Ucu4ZTlk7qtQMibA==cpyHoWVnOLLm6QW2\"})\n",
    "    if response.status_code == requests.codes.ok:\n",
    "        return response.json()\n",
    "    else:\n",
    "        print(\"Error:\", response.status_code, response.text)\n",
    "\n",
    "tools = [get_geocoding]\n",
    "\n",
    "\n",
    "agent = create_react_agent(llm, tools)\n",
    "\n",
    "\n",
    "def process_stream(stream):\n",
    "    data = []\n",
    "    try:\n",
    "        for chunk in stream:\n",
    "            print(\"Received chunk:\", end=\" \")\n",
    "            if 'agent' in chunk:\n",
    "                data.append(chunk['agent']['messages'][0].json())\n",
    "            if 'tools' in chunk:\n",
    "                data.append(chunk['tools']['messages'][0].json())\n",
    "            pprint(chunk)\n",
    "\n",
    "            # if hasattr(chunk, 'content'):\n",
    "            #     print(chunk.content, end='', flush=True)\n",
    "            # elif isinstance(chunk, dict):\n",
    "            #     pprint(chunk)\n",
    "            # else:\n",
    "            #     print(f\"Unexpected chunk type: {type(chunk)}\")\n",
    "    except Exception as e:\n",
    "        print(f\"An error occurred: {e}\")\n",
    "\n",
    "\n",
    "    print(\"\\n\\n\\n------------------------------------------------------\")\n",
    "\n",
    "    pprint(data)\n",
    "\n",
    "async def main():\n",
    "    stream = agent.stream({\"messages\": [HumanMessage(content=\"What is the geocoding of indore\")]})\n",
    "    # Use run_in_executor to run the synchronous function in a separate thread\n",
    "    await asyncio.get_event_loop().run_in_executor(None, process_stream, stream)\n",
    "\n",
    "\n",
    "\n",
    "\n",
    "if __name__==\"__main__\":\n",
    "    asyncio.run(main())"
   ]
  },
  {
   "cell_type": "code",
   "execution_count": 1,
   "metadata": {},
   "outputs": [],
   "source": [
    "from langgraph.prebuilt import create_react_agent\n",
    "from langchain_mistralai import ChatMistralAI\n",
    "from langchain_community.tools import tool\n",
    "import json\n",
    "from dotenv import load_dotenv\n",
    "load_dotenv()\n",
    "from langchain_core.messages import HumanMessage\n",
    "import asyncio\n",
    "from pprint import pprint\n",
    "\n",
    "\n",
    "llm = ChatMistralAI(model_name=\"mistral-large-latest\")\n",
    "\n",
    "tools = []\n",
    "\n",
    "# data = None\n",
    "# with open('actions.json', 'r') as file:\n",
    "#     data = json.load(file)\n",
    "\n",
    "\n",
    "# def parse_id(id_string):\n",
    "#     return id_string.split('_', 1)[1] if '_' in id_string else id_string\n",
    "\n",
    "# for action in data['actions']:\n",
    "#     exec(action['code'])\n",
    "#     tools.append(globals()[parse_id(action['title'])])\n",
    "\n",
    "@tool\n",
    "def get_geocoding(city) -> list:\n",
    "    \"\"\"\n",
    "    Retrieve latitude and longitude of a city via API.\n",
    "\n",
    "    Args:\n",
    "        city (str): City name.\n",
    "\n",
    "    Returns:\n",
    "        list: A list of geocoding data containing 'name', 'latitude', 'longitude', and 'country'.\n",
    "              Example:\n",
    "              [\n",
    "                  {\n",
    "                      \"name\": \"City Name\",\n",
    "                      \"latitude\": 12.34,\n",
    "                      \"longitude\": 56.78,\n",
    "                      \"country\": \"Country Name\"\n",
    "                  }\n",
    "              ]\n",
    "              \n",
    "              Prints error message and status code if the request fails.\n",
    "    \"\"\"\n",
    "\n",
    "    import requests\n",
    "    api_url = 'https://api.api-ninjas.com/v1/geocoding?city={}'.format(city)\n",
    "    response = requests.get(api_url, headers={'X-Api-Key': \"meaUO1Ucu4ZTlk7qtQMibA==cpyHoWVnOLLm6QW2\"})\n",
    "    if response.status_code == requests.codes.ok:\n",
    "        return response.json()\n",
    "    else:\n",
    "        print(\"Error:\", response.status_code, response.text)\n"
   ]
  },
  {
   "cell_type": "code",
   "execution_count": 2,
   "metadata": {},
   "outputs": [],
   "source": [
    "tools.append(get_geocoding)\n",
    "\n",
    "llm_with_tools = llm.bind_tools(tools=tools)"
   ]
  },
  {
   "cell_type": "code",
   "execution_count": 4,
   "metadata": {},
   "outputs": [],
   "source": [
    "respone = llm_with_tools.invoke(\"What is the geocoding of indore\")"
   ]
  },
  {
   "cell_type": "code",
   "execution_count": 6,
   "metadata": {},
   "outputs": [],
   "source": [
    "tool_call = respone.tool_calls[0]"
   ]
  },
  {
   "cell_type": "code",
   "execution_count": 7,
   "metadata": {},
   "outputs": [
    {
     "data": {
      "text/plain": [
       "{'city': 'indore'}"
      ]
     },
     "execution_count": 7,
     "metadata": {},
     "output_type": "execute_result"
    }
   ],
   "source": [
    "tool_call['args']"
   ]
  },
  {
   "cell_type": "code",
   "execution_count": 8,
   "metadata": {},
   "outputs": [
    {
     "data": {
      "text/plain": [
       "[{'name': 'Indore',\n",
       "  'latitude': 22.7203616,\n",
       "  'longitude': 75.8681996,\n",
       "  'country': 'IN',\n",
       "  'state': 'Madhya Pradesh'},\n",
       " {'name': 'Simrol',\n",
       "  'latitude': 22.539445,\n",
       "  'longitude': 75.9115643,\n",
       "  'country': 'IN',\n",
       "  'state': 'Madhya Pradesh'},\n",
       " {'name': 'Kampel',\n",
       "  'latitude': 22.6189602,\n",
       "  'longitude': 76.0498576,\n",
       "  'country': 'IN',\n",
       "  'state': 'Madhya Pradesh'},\n",
       " {'name': 'Indore',\n",
       "  'latitude': 24.9772666,\n",
       "  'longitude': 77.858262,\n",
       "  'country': 'IN',\n",
       "  'state': 'Madhya Pradesh'},\n",
       " {'name': 'Ralamandal Village',\n",
       "  'latitude': 22.64809095,\n",
       "  'longitude': 75.90138634026997,\n",
       "  'country': 'IN',\n",
       "  'state': 'Madhya Pradesh'}]"
      ]
     },
     "execution_count": 8,
     "metadata": {},
     "output_type": "execute_result"
    }
   ],
   "source": [
    "get_geocoding.invoke(tool_call['args'])"
   ]
  },
  {
   "cell_type": "code",
   "execution_count": 9,
   "metadata": {},
   "outputs": [],
   "source": [
    "agent = create_react_agent(llm, tools)"
   ]
  },
  {
   "cell_type": "code",
   "execution_count": null,
   "metadata": {},
   "outputs": [],
   "source": []
  }
 ],
 "metadata": {
  "kernelspec": {
   "display_name": "nexaflow",
   "language": "python",
   "name": "python3"
  },
  "language_info": {
   "codemirror_mode": {
    "name": "ipython",
    "version": 3
   },
   "file_extension": ".py",
   "mimetype": "text/x-python",
   "name": "python",
   "nbconvert_exporter": "python",
   "pygments_lexer": "ipython3",
   "version": "3.12.5"
  }
 },
 "nbformat": 4,
 "nbformat_minor": 2
}
