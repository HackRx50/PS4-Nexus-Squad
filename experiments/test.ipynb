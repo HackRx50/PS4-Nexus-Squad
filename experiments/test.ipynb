{
 "cells": [
  {
   "cell_type": "code",
   "execution_count": 1,
   "metadata": {},
   "outputs": [
    {
     "ename": "RuntimeError",
     "evalue": "asyncio.run() cannot be called from a running event loop",
     "output_type": "error",
     "traceback": [
      "\u001b[0;31m---------------------------------------------------------------------------\u001b[0m",
      "\u001b[0;31mRuntimeError\u001b[0m                              Traceback (most recent call last)",
      "Cell \u001b[0;32mIn[1], line 91\u001b[0m\n\u001b[1;32m     85\u001b[0m     \u001b[38;5;28;01mawait\u001b[39;00m asyncio\u001b[38;5;241m.\u001b[39mget_event_loop()\u001b[38;5;241m.\u001b[39mrun_in_executor(\u001b[38;5;28;01mNone\u001b[39;00m, process_stream, stream)\n\u001b[1;32m     90\u001b[0m \u001b[38;5;28;01mif\u001b[39;00m \u001b[38;5;18m__name__\u001b[39m\u001b[38;5;241m==\u001b[39m\u001b[38;5;124m\"\u001b[39m\u001b[38;5;124m__main__\u001b[39m\u001b[38;5;124m\"\u001b[39m:\n\u001b[0;32m---> 91\u001b[0m     \u001b[43masyncio\u001b[49m\u001b[38;5;241;43m.\u001b[39;49m\u001b[43mrun\u001b[49m\u001b[43m(\u001b[49m\u001b[43mmain\u001b[49m\u001b[43m(\u001b[49m\u001b[43m)\u001b[49m\u001b[43m)\u001b[49m\n",
      "File \u001b[0;32m~/miniconda3/envs/nexaflow/lib/python3.12/asyncio/runners.py:190\u001b[0m, in \u001b[0;36mrun\u001b[0;34m(main, debug, loop_factory)\u001b[0m\n\u001b[1;32m    161\u001b[0m \u001b[38;5;250m\u001b[39m\u001b[38;5;124;03m\"\"\"Execute the coroutine and return the result.\u001b[39;00m\n\u001b[1;32m    162\u001b[0m \n\u001b[1;32m    163\u001b[0m \u001b[38;5;124;03mThis function runs the passed coroutine, taking care of\u001b[39;00m\n\u001b[0;32m   (...)\u001b[0m\n\u001b[1;32m    186\u001b[0m \u001b[38;5;124;03m    asyncio.run(main())\u001b[39;00m\n\u001b[1;32m    187\u001b[0m \u001b[38;5;124;03m\"\"\"\u001b[39;00m\n\u001b[1;32m    188\u001b[0m \u001b[38;5;28;01mif\u001b[39;00m events\u001b[38;5;241m.\u001b[39m_get_running_loop() \u001b[38;5;129;01mis\u001b[39;00m \u001b[38;5;129;01mnot\u001b[39;00m \u001b[38;5;28;01mNone\u001b[39;00m:\n\u001b[1;32m    189\u001b[0m     \u001b[38;5;66;03m# fail fast with short traceback\u001b[39;00m\n\u001b[0;32m--> 190\u001b[0m     \u001b[38;5;28;01mraise\u001b[39;00m \u001b[38;5;167;01mRuntimeError\u001b[39;00m(\n\u001b[1;32m    191\u001b[0m         \u001b[38;5;124m\"\u001b[39m\u001b[38;5;124masyncio.run() cannot be called from a running event loop\u001b[39m\u001b[38;5;124m\"\u001b[39m)\n\u001b[1;32m    193\u001b[0m \u001b[38;5;28;01mwith\u001b[39;00m Runner(debug\u001b[38;5;241m=\u001b[39mdebug, loop_factory\u001b[38;5;241m=\u001b[39mloop_factory) \u001b[38;5;28;01mas\u001b[39;00m runner:\n\u001b[1;32m    194\u001b[0m     \u001b[38;5;28;01mreturn\u001b[39;00m runner\u001b[38;5;241m.\u001b[39mrun(main)\n",
      "\u001b[0;31mRuntimeError\u001b[0m: asyncio.run() cannot be called from a running event loop"
     ]
    }
   ],
   "source": [
    "from langgraph.prebuilt import create_react_agent\n",
    "from langchain_mistralai import ChatMistralAI\n",
    "from langchain_community.tools import tool\n",
    "import json\n",
    "from dotenv import load_dotenv\n",
    "load_dotenv()\n",
    "from langchain_core.messages import HumanMessage\n",
    "import asyncio\n",
    "from pprint import pprint\n",
    "\n",
    "llm = ChatMistralAI(model_name=\"mistral-large-latest\")\n",
    "\n",
    "tools = []\n",
    "\n",
    "@tool\n",
    "def get_geocoding(city) -> list:\n",
    "    \"\"\"\n",
    "    Retrieve latitude and longitude of a city via API.\n",
    "\n",
    "    Args:\n",
    "        city (str): City name.\n",
    "\n",
    "    Returns:\n",
    "        list: A list of geocoding data containing 'name', 'latitude', 'longitude', and 'country'.\n",
    "              Example:\n",
    "              [\n",
    "                  {\n",
    "                      \"name\": \"City Name\",\n",
    "                      \"latitude\": 12.34,\n",
    "                      \"longitude\": 56.78,\n",
    "                      \"country\": \"Country Name\"\n",
    "                  }\n",
    "              ]\n",
    "              \n",
    "              Prints error message and status code if the request fails.\n",
    "    \"\"\"\n",
    "\n",
    "    import requests\n",
    "    api_url = 'https://api.api-ninjas.com/v1/geocoding?city={}'.format(city)\n",
    "    response = requests.get(api_url, headers={'X-Api-Key': \"xcLLDR96ebzrnjNcKFyf4WT5qHsOakdYdzTBLkYu\"})\n",
    "    if response.status_code == requests.codes.ok:\n",
    "        return response.json()\n",
    "    else:\n",
    "        print(\"Error:\", response.status_code, response.text)\n",
    "\n",
    "tools = [get_geocoding]\n",
    "\n",
    "\n",
    "agent = create_react_agent(llm, tools)\n",
    "\n",
    "\n",
    "def process_stream(stream):\n",
    "    data = []\n",
    "    try:\n",
    "        for chunk in stream:\n",
    "            print(\"Received chunk:\", end=\" \")\n",
    "            if 'agent' in chunk:\n",
    "                data.append(chunk['agent']['messages'][0].json())\n",
    "            if 'tools' in chunk:\n",
    "                data.append(chunk['tools']['messages'][0].json())\n",
    "            pprint(chunk)\n",
    "    except Exception as e:\n",
    "        print(f\"An error occurred: {e}\")\n",
    "\n",
    "\n",
    "    print(\"\\n\\n\\n------------------------------------------------------\")\n",
    "\n",
    "    pprint(data)\n",
    "\n",
    "async def main():\n",
    "    stream = agent.stream({\"messages\": [HumanMessage(content=\"What is the geocoding of indore\")]})\n",
    "    # Use run_in_executor to run the synchronous function in a separate thread\n",
    "    await asyncio.get_event_loop().run_in_executor(None, process_stream, stream)\n",
    "\n",
    "\n",
    "\n",
    "\n",
    "if __name__==\"__main__\":\n",
    "    asyncio.run(main())"
   ]
  },
  {
   "cell_type": "code",
   "execution_count": 1,
   "metadata": {},
   "outputs": [],
   "source": [
    "from langgraph.prebuilt import create_react_agent\n",
    "from langchain_mistralai import ChatMistralAI\n",
    "from langchain_community.tools import tool\n",
    "import json\n",
    "from dotenv import load_dotenv\n",
    "load_dotenv()\n",
    "from langchain_core.messages import HumanMessage\n",
    "import asyncio\n",
    "from pprint import pprint\n",
    "\n",
    "\n",
    "llm = ChatMistralAI(model_name=\"mistral-large-latest\")\n",
    "\n",
    "tools = []\n",
    "\n",
    "# data = None\n",
    "# with open('actions.json', 'r') as file:\n",
    "#     data = json.load(file)\n",
    "\n",
    "\n",
    "# def parse_id(id_string):\n",
    "#     return id_string.split('_', 1)[1] if '_' in id_string else id_string\n",
    "\n",
    "# for action in data['actions']:\n",
    "#     exec(action['code'])\n",
    "#     tools.append(globals()[parse_id(action['title'])])\n",
    "\n",
    "@tool\n",
    "def get_geocoding(city) -> list:\n",
    "    \"\"\"\n",
    "    Retrieve latitude and longitude of a city via API.\n",
    "\n",
    "    Args:\n",
    "        city (str): City name.\n",
    "\n",
    "    Returns:\n",
    "        list: A list of geocoding data containing 'name', 'latitude', 'longitude', and 'country'.\n",
    "              Example:\n",
    "              [\n",
    "                  {\n",
    "                      \"name\": \"City Name\",\n",
    "                      \"latitude\": 12.34,\n",
    "                      \"longitude\": 56.78,\n",
    "                      \"country\": \"Country Name\"\n",
    "                  }\n",
    "              ]\n",
    "              \n",
    "              Prints error message and status code if the request fails.\n",
    "    \"\"\"\n",
    "\n",
    "    import requests\n",
    "    api_url = 'https://api.api-ninjas.com/v1/geocoding?city={}'.format(city)\n",
    "    response = requests.get(api_url, headers={'X-Api-Key': \"meaUO1Ucu4ZTlk7qtQMibA==cpyHoWVnOLLm6QW2\"})\n",
    "    if response.status_code == requests.codes.ok:\n",
    "        return response.json()\n",
    "    else:\n",
    "        print(\"Error:\", response.status_code, response.text)\n"
   ]
  },
  {
   "cell_type": "code",
   "execution_count": 2,
   "metadata": {},
   "outputs": [],
   "source": [
    "tools.append(get_geocoding)\n",
    "\n",
    "llm_with_tools = llm.bind_tools(tools=tools)"
   ]
  },
  {
   "cell_type": "code",
   "execution_count": 4,
   "metadata": {},
   "outputs": [],
   "source": [
    "respone = llm_with_tools.invoke(\"What is the geocoding of indore\")"
   ]
  },
  {
   "cell_type": "code",
   "execution_count": 6,
   "metadata": {},
   "outputs": [],
   "source": [
    "tool_call = respone.tool_calls[0]"
   ]
  },
  {
   "cell_type": "code",
   "execution_count": 7,
   "metadata": {},
   "outputs": [
    {
     "data": {
      "text/plain": [
       "{'city': 'indore'}"
      ]
     },
     "execution_count": 7,
     "metadata": {},
     "output_type": "execute_result"
    }
   ],
   "source": [
    "tool_call['args']"
   ]
  },
  {
   "cell_type": "code",
   "execution_count": 8,
   "metadata": {},
   "outputs": [
    {
     "data": {
      "text/plain": [
       "[{'name': 'Indore',\n",
       "  'latitude': 22.7203616,\n",
       "  'longitude': 75.8681996,\n",
       "  'country': 'IN',\n",
       "  'state': 'Madhya Pradesh'},\n",
       " {'name': 'Simrol',\n",
       "  'latitude': 22.539445,\n",
       "  'longitude': 75.9115643,\n",
       "  'country': 'IN',\n",
       "  'state': 'Madhya Pradesh'},\n",
       " {'name': 'Kampel',\n",
       "  'latitude': 22.6189602,\n",
       "  'longitude': 76.0498576,\n",
       "  'country': 'IN',\n",
       "  'state': 'Madhya Pradesh'},\n",
       " {'name': 'Indore',\n",
       "  'latitude': 24.9772666,\n",
       "  'longitude': 77.858262,\n",
       "  'country': 'IN',\n",
       "  'state': 'Madhya Pradesh'},\n",
       " {'name': 'Ralamandal Village',\n",
       "  'latitude': 22.64809095,\n",
       "  'longitude': 75.90138634026997,\n",
       "  'country': 'IN',\n",
       "  'state': 'Madhya Pradesh'}]"
      ]
     },
     "execution_count": 8,
     "metadata": {},
     "output_type": "execute_result"
    }
   ],
   "source": [
    "get_geocoding.invoke(tool_call['args'])"
   ]
  },
  {
   "cell_type": "code",
   "execution_count": 9,
   "metadata": {},
   "outputs": [],
   "source": [
    "agent = create_react_agent(llm, tools)"
   ]
  },
  {
   "cell_type": "code",
   "execution_count": null,
   "metadata": {},
   "outputs": [],
   "source": []
  }
 ],
 "metadata": {
  "kernelspec": {
   "display_name": "nexaflow",
   "language": "python",
   "name": "python3"
  },
  "language_info": {
   "codemirror_mode": {
    "name": "ipython",
    "version": 3
   },
   "file_extension": ".py",
   "mimetype": "text/x-python",
   "name": "python",
   "nbconvert_exporter": "python",
   "pygments_lexer": "ipython3",
   "version": "3.12.5"
  }
 },
 "nbformat": 4,
 "nbformat_minor": 2
}
