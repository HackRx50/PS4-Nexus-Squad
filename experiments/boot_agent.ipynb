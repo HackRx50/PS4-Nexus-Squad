{
 "cells": [
  {
   "cell_type": "code",
   "execution_count": 1,
   "metadata": {},
   "outputs": [
    {
     "data": {
      "text/plain": [
       "True"
      ]
     },
     "execution_count": 1,
     "metadata": {},
     "output_type": "execute_result"
    }
   ],
   "source": [
    "from langgraph.prebuilt import create_react_agent\n",
    "from langchain_mistralai import ChatMistralAI\n",
    "from langchain_community.tools import tool\n",
    "import json\n",
    "from dotenv import load_dotenv\n",
    "load_dotenv()"
   ]
  },
  {
   "cell_type": "code",
   "execution_count": 2,
   "metadata": {},
   "outputs": [],
   "source": [
    "llm = ChatMistralAI(model_name=\"mistral-large-latest\")"
   ]
  },
  {
   "cell_type": "code",
   "execution_count": 3,
   "metadata": {},
   "outputs": [],
   "source": [
    "tools = []"
   ]
  },
  {
   "cell_type": "code",
   "execution_count": 4,
   "metadata": {},
   "outputs": [],
   "source": [
    "data = None\n",
    "with open('actions.json', 'r') as file:\n",
    "    data = json.load(file)"
   ]
  },
  {
   "cell_type": "code",
   "execution_count": 5,
   "metadata": {},
   "outputs": [],
   "source": [
    "def parse_id(id_string):\n",
    "    return id_string.split('_', 1)[1] if '_' in id_string else id_string\n",
    "\n",
    "for action in data['actions']:\n",
    "    exec(action['code'])\n",
    "    tools.append(globals()[parse_id(action['title'])])"
   ]
  },
  {
   "cell_type": "code",
   "execution_count": 6,
   "metadata": {},
   "outputs": [
    {
     "data": {
      "text/plain": [
       "[<function __main__.hello_django()>,\n",
       " <function __main__.hello_flask()>,\n",
       " <function __main__.hello_python()>,\n",
       " <function __main__.hello_react()>,\n",
       " <function __main__.hello_universe()>,\n",
       " <function __main__.hello_world()>,\n",
       " <function __main__.addition(a: int, b: int) -> int>,\n",
       " <function __main__.division(a: int, b: int) -> float>,\n",
       " <function __main__.multiplication(a: int, b: int) -> int>,\n",
       " <function __main__.power(base: int, exponent: int) -> int>,\n",
       " <function __main__.subtraction(a: int, b: int) -> int>,\n",
       " <function __main__.get_user_list(count: int = 10)>]"
      ]
     },
     "execution_count": 6,
     "metadata": {},
     "output_type": "execute_result"
    }
   ],
   "source": [
    "tools"
   ]
  },
  {
   "cell_type": "code",
   "execution_count": 6,
   "metadata": {},
   "outputs": [],
   "source": [
    "@tool\n",
    "def get_geocoding(city) -> list:\n",
    "    \"\"\"\n",
    "    Retrieve latitude and longitude of a city via API.\n",
    "\n",
    "    Args:\n",
    "        city (str): City name.\n",
    "\n",
    "    Returns:\n",
    "        list: A list of geocoding data containing 'name', 'latitude', 'longitude', and 'country'.\n",
    "              Example:\n",
    "              [\n",
    "                  {\n",
    "                      \"name\": \"City Name\",\n",
    "                      \"latitude\": 12.34,\n",
    "                      \"longitude\": 56.78,\n",
    "                      \"country\": \"Country Name\"\n",
    "                  }\n",
    "              ]\n",
    "              \n",
    "              Prints error message and status code if the request fails.\n",
    "    \"\"\"\n",
    "\n",
    "    import requests\n",
    "    api_url = 'https://api.api-ninjas.com/v1/geocoding?city={}'.format(city)\n",
    "    response = requests.get(api_url, headers={'X-Api-Key': \"meaUO1Ucu4ZTlk7qtQMibA==cpyHoWVnOLLm6QW2\"})\n",
    "    if response.status_code == requests.codes.ok:\n",
    "        return response.json()\n",
    "    else:\n",
    "        print(\"Error:\", response.status_code, response.text)"
   ]
  },
  {
   "cell_type": "code",
   "execution_count": 7,
   "metadata": {},
   "outputs": [
    {
     "data": {
      "text/plain": [
       "'Tool that can operate on any number of inputs.'"
      ]
     },
     "execution_count": 7,
     "metadata": {},
     "output_type": "execute_result"
    }
   ],
   "source": [
    "tools = [get_geocoding]\n",
    "get_geocoding.__doc__"
   ]
  },
  {
   "cell_type": "code",
   "execution_count": 8,
   "metadata": {},
   "outputs": [],
   "source": [
    "agent = create_react_agent(llm, tools)"
   ]
  },
  {
   "cell_type": "code",
   "execution_count": 12,
   "metadata": {},
   "outputs": [],
   "source": [
    "from langchain_core.messages import HumanMessage\n",
    "import json\n",
    "import asyncio\n",
    "\n",
    "def process_stream(stream):\n",
    "    try:\n",
    "        for chunk in stream:\n",
    "            print(\"Received chunk:\", chunk)\n",
    "            if hasattr(chunk, 'content'):\n",
    "                print(chunk.content, end='', flush=True)\n",
    "            elif isinstance(chunk, dict):\n",
    "                print(json.dumps(chunk, indent=2))\n",
    "            else:\n",
    "                print(f\"Unexpected chunk type: {type(chunk)}\")\n",
    "    except Exception as e:\n",
    "        print(f\"An error occurred: {e}\")\n",
    "\n",
    "async def main():\n",
    "    stream = agent.stream({\"messages\": [HumanMessage(content=\"From the list of users, give me the email and name of first user\")]})\n",
    "    # Use run_in_executor to run the synchronous function in a separate thread\n",
    "    await asyncio.get_event_loop().run_in_executor(None, process_stream, stream)\n",
    "\n",
    "await main()"
   ]
  },
  {
   "cell_type": "code",
   "execution_count": 17,
   "metadata": {},
   "outputs": [
    {
     "ename": "TypeError",
     "evalue": "object async_generator can't be used in 'await' expression",
     "output_type": "error",
     "traceback": [
      "\u001b[0;31m---------------------------------------------------------------------------\u001b[0m",
      "\u001b[0;31mTypeError\u001b[0m                                 Traceback (most recent call last)",
      "Cell \u001b[0;32mIn[17], line 1\u001b[0m\n\u001b[0;32m----> 1\u001b[0m \u001b[38;5;28;01mawait\u001b[39;00m main()\n",
      "Cell \u001b[0;32mIn[16], line 13\u001b[0m, in \u001b[0;36mmain\u001b[0;34m()\u001b[0m\n\u001b[1;32m     11\u001b[0m \u001b[38;5;28;01masync\u001b[39;00m \u001b[38;5;28;01mdef\u001b[39;00m \u001b[38;5;21mmain\u001b[39m():\n\u001b[1;32m     12\u001b[0m     \u001b[38;5;66;03m# Assuming you've already set up your agent\u001b[39;00m\n\u001b[0;32m---> 13\u001b[0m     stream \u001b[38;5;241m=\u001b[39m \u001b[38;5;28;01mawait\u001b[39;00m agent\u001b[38;5;241m.\u001b[39mastream({\u001b[38;5;124m\"\u001b[39m\u001b[38;5;124mmessages\u001b[39m\u001b[38;5;124m\"\u001b[39m: [HumanMessage(content\u001b[38;5;241m=\u001b[39m\u001b[38;5;124m\"\u001b[39m\u001b[38;5;124mFrom the list of users, give me the email and name of first user\u001b[39m\u001b[38;5;124m\"\u001b[39m)]})\n\u001b[1;32m     14\u001b[0m     \u001b[38;5;28;01mawait\u001b[39;00m process_stream(stream)\n",
      "\u001b[0;31mTypeError\u001b[0m: object async_generator can't be used in 'await' expression"
     ]
    }
   ],
   "source": [
    "await main()"
   ]
  },
  {
   "cell_type": "code",
   "execution_count": 9,
   "metadata": {},
   "outputs": [
    {
     "data": {
      "text/plain": [
       "{'messages': [HumanMessage(content='From the list of users, give me the email and name of first user', id='4ad9e0f6-c4f4-455e-a543-943f438df510'),\n",
       "  AIMessage(content='', additional_kwargs={'tool_calls': [{'id': 'p1znGB4z7', 'function': {'name': 'get_user_list', 'arguments': '{\"count\": 1}'}}]}, response_metadata={'token_usage': {'prompt_tokens': 797, 'total_tokens': 819, 'completion_tokens': 22}, 'model': 'mistral-large-latest', 'finish_reason': 'tool_calls'}, id='run-8f6be88a-e2c1-4b0f-8fa0-7b0ce0f59868-0', tool_calls=[{'name': 'get_user_list', 'args': {'count': 1}, 'id': 'p1znGB4z7', 'type': 'tool_call'}], usage_metadata={'input_tokens': 797, 'output_tokens': 22, 'total_tokens': 819}),\n",
       "  ToolMessage(content='[{\"id\": 0, \"name\": \"abhishek 0\", \"email\": \"abhishek0@mail.com\"}]', name='get_user_list', id='6f3b20b2-6a67-4c53-8823-0552f308d284', tool_call_id='p1znGB4z7'),\n",
       "  AIMessage(content='Here is the details of the first user:\\n- Name: abhishek 0\\n- Email: abhishek0@mail.com', response_metadata={'token_usage': {'prompt_tokens': 877, 'total_tokens': 909, 'completion_tokens': 32}, 'model': 'mistral-large-latest', 'finish_reason': 'stop'}, id='run-789e3add-607c-4a76-bbae-ec45628cf2b8-0', usage_metadata={'input_tokens': 877, 'output_tokens': 32, 'total_tokens': 909}),\n",
       "  HumanMessage(content='What is the name of the 5 the user?', id='95ae6123-6c71-4144-9ea6-f385b92c3bc1'),\n",
       "  AIMessage(content='', additional_kwargs={'tool_calls': [{'id': 'Md4FXSvT9', 'function': {'name': 'get_user_list', 'arguments': '{\"count\": 5}'}}]}, response_metadata={'token_usage': {'prompt_tokens': 923, 'total_tokens': 945, 'completion_tokens': 22}, 'model': 'mistral-large-latest', 'finish_reason': 'tool_calls'}, id='run-84cdcdc0-4c17-40a0-9a78-6676e806a77c-0', tool_calls=[{'name': 'get_user_list', 'args': {'count': 5}, 'id': 'Md4FXSvT9', 'type': 'tool_call'}], usage_metadata={'input_tokens': 923, 'output_tokens': 22, 'total_tokens': 945}),\n",
       "  ToolMessage(content='[{\"id\": 0, \"name\": \"abhishek 0\", \"email\": \"abhishek0@mail.com\"}, {\"id\": 1, \"name\": \"abhishek 1\", \"email\": \"abhishek1@mail.com\"}, {\"id\": 2, \"name\": \"abhishek 2\", \"email\": \"abhishek2@mail.com\"}, {\"id\": 3, \"name\": \"abhishek 3\", \"email\": \"abhishek3@mail.com\"}, {\"id\": 4, \"name\": \"abhishek 4\", \"email\": \"abhishek4@mail.com\"}]', name='get_user_list', id='573ff326-34d9-4171-a298-5f26627087ca', tool_call_id='Md4FXSvT9'),\n",
       "  AIMessage(content='The name of the 5th user is abhishek 4', response_metadata={'token_usage': {'prompt_tokens': 1127, 'total_tokens': 1142, 'completion_tokens': 15}, 'model': 'mistral-large-latest', 'finish_reason': 'stop'}, id='run-74ac1d48-fd79-44ad-a93e-225c04e5bc62-0', usage_metadata={'input_tokens': 1127, 'output_tokens': 15, 'total_tokens': 1142})]}"
      ]
     },
     "execution_count": 9,
     "metadata": {},
     "output_type": "execute_result"
    }
   ],
   "source": [
    "agent.invoke({\"messages\": [*result[\"messages\"], HumanMessage(content=\"What is the name of the 5 the user?\")]})"
   ]
  },
  {
   "cell_type": "code",
   "execution_count": 10,
   "metadata": {},
   "outputs": [],
   "source": [
    "from langchain_core.messages import HumanMessage, ToolMessage, AIMessage"
   ]
  },
  {
   "cell_type": "code",
   "execution_count": 9,
   "metadata": {},
   "outputs": [
    {
     "ename": "NameError",
     "evalue": "name 'AIMessage' is not defined",
     "output_type": "error",
     "traceback": [
      "\u001b[0;31m---------------------------------------------------------------------------\u001b[0m",
      "\u001b[0;31mNameError\u001b[0m                                 Traceback (most recent call last)",
      "Cell \u001b[0;32mIn[9], line 3\u001b[0m\n\u001b[1;32m      1\u001b[0m previous_messages \u001b[38;5;241m=\u001b[39m []\n\u001b[1;32m      2\u001b[0m \u001b[38;5;28;01mfor\u001b[39;00m message \u001b[38;5;129;01min\u001b[39;00m result[\u001b[38;5;124m\"\u001b[39m\u001b[38;5;124mmessages\u001b[39m\u001b[38;5;124m\"\u001b[39m]:\n\u001b[0;32m----> 3\u001b[0m     \u001b[38;5;28;01mif\u001b[39;00m \u001b[38;5;28misinstance\u001b[39m(message, \u001b[43mAIMessage\u001b[49m):\n\u001b[1;32m      4\u001b[0m         \u001b[38;5;28;01mif\u001b[39;00m \u001b[38;5;129;01mnot\u001b[39;00m message\u001b[38;5;241m.\u001b[39mcontent:\n\u001b[1;32m      5\u001b[0m             \u001b[38;5;28;01mcontinue\u001b[39;00m\n",
      "\u001b[0;31mNameError\u001b[0m: name 'AIMessage' is not defined"
     ]
    }
   ],
   "source": [
    "previous_messages = []\n",
    "for message in result[\"messages\"]:\n",
    "    if isinstance(message, AIMessage):\n",
    "        if not message.content:\n",
    "            continue\n",
    "        previous_messages.append(AIMessage(content=message.content))\n",
    "    elif isinstance(message, HumanMessage):\n",
    "        previous_messages.append(message)\n",
    "    elif isinstance(message, ToolMessage):\n",
    "        previous_messages.append(AIMessage(content=json.dumps(message.content)))\n",
    "\n",
    "previous_messages"
   ]
  },
  {
   "cell_type": "code",
   "execution_count": 12,
   "metadata": {},
   "outputs": [
    {
     "data": {
      "text/plain": [
       "{'messages': [HumanMessage(content='From the list of users, give me the email and name of first user', id='4ad9e0f6-c4f4-455e-a543-943f438df510'),\n",
       "  AIMessage(content='\"[{\\\\\"id\\\\\": 0, \\\\\"name\\\\\": \\\\\"abhishek 0\\\\\", \\\\\"email\\\\\": \\\\\"abhishek0@mail.com\\\\\"}]\"', id='ed39fe4c-616f-40b4-ac6b-11d75ea76189'),\n",
       "  AIMessage(content='Here is the details of the first user:\\n- Name: abhishek 0\\n- Email: abhishek0@mail.com', id='4397df32-2fec-49a4-ab20-e345c215494e'),\n",
       "  HumanMessage(content='What is the email user with is 0 again', id='bb9876af-6919-468b-96ad-fad8cabe7906'),\n",
       "  AIMessage(content='', additional_kwargs={'tool_calls': [{'id': 'Cxx8MSvtA', 'function': {'name': 'get_user_list', 'arguments': '{\"count\": 10}'}}]}, response_metadata={'token_usage': {'prompt_tokens': 879, 'total_tokens': 902, 'completion_tokens': 23}, 'model': 'mistral-large-latest', 'finish_reason': 'tool_calls'}, id='run-4431dcd1-5742-47c4-a94d-a50ded0aba87-0', tool_calls=[{'name': 'get_user_list', 'args': {'count': 10}, 'id': 'Cxx8MSvtA', 'type': 'tool_call'}], usage_metadata={'input_tokens': 879, 'output_tokens': 23, 'total_tokens': 902}),\n",
       "  ToolMessage(content='[{\"id\": 0, \"name\": \"abhishek 0\", \"email\": \"abhishek0@mail.com\"}, {\"id\": 1, \"name\": \"abhishek 1\", \"email\": \"abhishek1@mail.com\"}, {\"id\": 2, \"name\": \"abhishek 2\", \"email\": \"abhishek2@mail.com\"}, {\"id\": 3, \"name\": \"abhishek 3\", \"email\": \"abhishek3@mail.com\"}, {\"id\": 4, \"name\": \"abhishek 4\", \"email\": \"abhishek4@mail.com\"}, {\"id\": 5, \"name\": \"abhishek 5\", \"email\": \"abhishek5@mail.com\"}, {\"id\": 6, \"name\": \"abhishek 6\", \"email\": \"abhishek6@mail.com\"}, {\"id\": 7, \"name\": \"abhishek 7\", \"email\": \"abhishek7@mail.com\"}, {\"id\": 8, \"name\": \"abhishek 8\", \"email\": \"abhishek8@mail.com\"}, {\"id\": 9, \"name\": \"abhishek 9\", \"email\": \"abhishek9@mail.com\"}]', name='get_user_list', id='afe26e8f-4ae2-44f4-916e-4469b81a4ac1', tool_call_id='Cxx8MSvtA'),\n",
       "  AIMessage(content='Here is the details of the first user:\\n- Name: abhishek 0\\n- Email: abhishek0@mail.com', response_metadata={'token_usage': {'prompt_tokens': 1238, 'total_tokens': 1270, 'completion_tokens': 32}, 'model': 'mistral-large-latest', 'finish_reason': 'stop'}, id='run-85b98ed3-4eae-4999-b190-53b941c4fb33-0', usage_metadata={'input_tokens': 1238, 'output_tokens': 32, 'total_tokens': 1270})]}"
      ]
     },
     "execution_count": 12,
     "metadata": {},
     "output_type": "execute_result"
    }
   ],
   "source": [
    "\n",
    "agent.invoke({\"messages\": [*previous_messages, HumanMessage(content=\"What is the email user with is 0 again\")]})"
   ]
  },
  {
   "cell_type": "code",
   "execution_count": 23,
   "metadata": {},
   "outputs": [
    {
     "name": "stdout",
     "output_type": "stream",
     "text": [
      "Get me first 20 Users list\n",
      "\n",
      "[{\"id\": 0, \"name\": \"abhishek 0\", \"email\": \"abhishek0@mail.com\"}, {\"id\": 1, \"name\": \"abhishek 1\", \"email\": \"abhishek1@mail.com\"}, {\"id\": 2, \"name\": \"abhishek 2\", \"email\": \"abhishek2@mail.com\"}, {\"id\": 3, \"name\": \"abhishek 3\", \"email\": \"abhishek3@mail.com\"}, {\"id\": 4, \"name\": \"abhishek 4\", \"email\": \"abhishek4@mail.com\"}, {\"id\": 5, \"name\": \"abhishek 5\", \"email\": \"abhishek5@mail.com\"}, {\"id\": 6, \"name\": \"abhishek 6\", \"email\": \"abhishek6@mail.com\"}, {\"id\": 7, \"name\": \"abhishek 7\", \"email\": \"abhishek7@mail.com\"}, {\"id\": 8, \"name\": \"abhishek 8\", \"email\": \"abhishek8@mail.com\"}, {\"id\": 9, \"name\": \"abhishek 9\", \"email\": \"abhishek9@mail.com\"}, {\"id\": 10, \"name\": \"abhishek 10\", \"email\": \"abhishek10@mail.com\"}, {\"id\": 11, \"name\": \"abhishek 11\", \"email\": \"abhishek11@mail.com\"}, {\"id\": 12, \"name\": \"abhishek 12\", \"email\": \"abhishek12@mail.com\"}, {\"id\": 13, \"name\": \"abhishek 13\", \"email\": \"abhishek13@mail.com\"}, {\"id\": 14, \"name\": \"abhishek 14\", \"email\": \"abhishek14@mail.com\"}, {\"id\": 15, \"name\": \"abhishek 15\", \"email\": \"abhishek15@mail.com\"}, {\"id\": 16, \"name\": \"abhishek 16\", \"email\": \"abhishek16@mail.com\"}, {\"id\": 17, \"name\": \"abhishek 17\", \"email\": \"abhishek17@mail.com\"}, {\"id\": 18, \"name\": \"abhishek 18\", \"email\": \"abhishek18@mail.com\"}, {\"id\": 19, \"name\": \"abhishek 19\", \"email\": \"abhishek19@mail.com\"}]\n",
      "Here is the list of first 20 users:\n",
      "\n",
      "| ID  | Name       | Email                  |\n",
      "|-----|------------|------------------------|\n",
      "| 0   | abhishek 0 | abhishek0@mail.com     |\n",
      "| 1   | abhishek 1 | abhishek1@mail.com     |\n",
      "| 2   | abhishek 2 | abhishek2@mail.com     |\n",
      "| 3   | abhishek 3 | abhishek3@mail.com     |\n",
      "| 4   | abhishek 4 | abhishek4@mail.com     |\n",
      "| 5   | abhishek 5 | abhishek5@mail.com     |\n",
      "| 6   | abhishek 6 | abhishek6@mail.com     |\n",
      "| 7   | abhishek 7 | abhishek7@mail.com     |\n",
      "| 8   | abhishek 8 | abhishek8@mail.com     |\n",
      "| 9   | abhishek 9 | abhishek9@mail.com     |\n",
      "| 10  | abhishek 10 | abhishek10@mail.com    |\n",
      "| 11  | abhishek 11 | abhishek11@mail.com    |\n",
      "| 12  | abhishek 12 | abhishek12@mail.com    |\n",
      "| 13  | abhishek 13 | abhishek13@mail.com    |\n",
      "| 14  | abhishek 14 | abhishek14@mail.com    |\n",
      "| 15  | abhishek 15 | abhishek15@mail.com    |\n",
      "| 16  | abhishek 16 | abhishek16@mail.com    |\n",
      "| 17  | abhishek 17 | abhishek17@mail.com    |\n",
      "| 18  | abhishek 18 | abhishek18@mail.com    |\n",
      "| 19  | abhishek 19 | abhishek19@mail.com    |\n"
     ]
    }
   ],
   "source": [
    "result = None\n",
    "result = agent.invoke({\"messages\": [HumanMessage(content=\"Get me first 20 Users list\")]})\n",
    "\n",
    "for message in result[\"messages\"]:\n",
    "    print(message.content)"
   ]
  },
  {
   "cell_type": "code",
   "execution_count": 8,
   "metadata": {},
   "outputs": [],
   "source": []
  },
  {
   "cell_type": "code",
   "execution_count": 10,
   "metadata": {},
   "outputs": [
    {
     "data": {
      "text/plain": [
       "{'name': 'London',\n",
       " 'latitude': 51.5073219,\n",
       " 'longitude': -0.1276474,\n",
       " 'country': 'GB',\n",
       " 'state': 'England'}"
      ]
     },
     "execution_count": 10,
     "metadata": {},
     "output_type": "execute_result"
    }
   ],
   "source": [
    "get_geocoding(\"london\", \"uk\")[0]"
   ]
  },
  {
   "cell_type": "markdown",
   "metadata": {},
   "source": [
    "### Checking For Session Queries"
   ]
  },
  {
   "cell_type": "code",
   "execution_count": 5,
   "metadata": {},
   "outputs": [
    {
     "data": {
      "text/plain": [
       "{'messages': [HumanMessage(content='Who is Narendra Modi?', id='4c146c78-5b7c-452e-b5b5-dff75bbf4185'),\n",
       "  AIMessage(content=\"Narendra Modi is an Indian politician who has been serving as the Prime Minister of India since 2014. Here are some key points about him:\\n\\n1. **Early Life and Education**: Narendra Damodardas Modi was born on September 17, 1950, in Vadnagar, Gujarat. He holds a Bachelor's degree in political science from the School of Open Learning, University of Delhi, and a Master's degree in political science from Gujarat University.\\n\\n2. **Political Career**: Modi began his political career as a member of the Rashtriya Swayamsevak Sangh (RSS) and joined the Bharatiya Janata Party (BJP) in 1985. He rose through the ranks, holding various positions within the party.\\n\\n3. **Chief Minister of Gujarat**: Modi served as the Chief Minister of Gujarat from 2001 to 2014, making him the longest-serving Chief Minister of the state. His tenure is known for significant economic growth and development in Gujarat.\\n\\n4. **Prime Minister of India**: In the 2014 general elections, the BJP won a historic majority, and Modi was elected as the Prime Minister of India. He was re-elected in the 2019 general elections with an even larger majority.\\n\\n5. **Policies and Initiatives**: As Prime Minister, Modi has launched various initiatives and programs, including Swachh Bharat Abhiyan (Clean India Mission), Make in India, Digital India, and Smart Cities Mission. His government has also introduced significant economic reforms, such as the Goods and Services Tax (GST) and demonetization.\\n\\n6. **International Relations**: Modi has been active in foreign policy, focusing on improving India's relations with other countries and enhancing its global standing.\\n\\nModi is known for his oratory skills and is considered a prominent leader in contemporary Indian politics. However, his tenure has also been marked by controversies, including allegations of human rights violations and criticism of some of his policies.\", response_metadata={'token_usage': {'prompt_tokens': 12, 'total_tokens': 498, 'completion_tokens': 486}, 'model': 'mistral-large-latest', 'finish_reason': 'stop'}, id='run-92e26d99-1c4e-40ee-bd7f-477031ee2317-0', usage_metadata={'input_tokens': 12, 'output_tokens': 486, 'total_tokens': 498})]}"
      ]
     },
     "execution_count": 5,
     "metadata": {},
     "output_type": "execute_result"
    }
   ],
   "source": [
    "from langchain_core.messages import HumanMessage, AIMessage\n",
    "\n",
    "result = agent.invoke({\"messages\": [HumanMessage(content=\"Who is Narendra Modi?\")]})\n",
    "result"
   ]
  },
  {
   "cell_type": "code",
   "execution_count": 6,
   "metadata": {},
   "outputs": [
    {
     "data": {
      "text/plain": [
       "{'messages': [HumanMessage(content='Who is Narendra Modi?', id='4c146c78-5b7c-452e-b5b5-dff75bbf4185'),\n",
       "  AIMessage(content=\"Narendra Modi is an Indian politician who has been serving as the Prime Minister of India since 2014. Here are some key points about him:\\n\\n1. **Early Life and Education**: Narendra Damodardas Modi was born on September 17, 1950, in Vadnagar, Gujarat. He holds a Bachelor's degree in political science from the School of Open Learning, University of Delhi, and a Master's degree in political science from Gujarat University.\\n\\n2. **Political Career**: Modi began his political career as a member of the Rashtriya Swayamsevak Sangh (RSS) and joined the Bharatiya Janata Party (BJP) in 1985. He rose through the ranks, holding various positions within the party.\\n\\n3. **Chief Minister of Gujarat**: Modi served as the Chief Minister of Gujarat from 2001 to 2014, making him the longest-serving Chief Minister of the state. His tenure is known for significant economic growth and development in Gujarat.\\n\\n4. **Prime Minister of India**: In the 2014 general elections, the BJP won a historic majority, and Modi was elected as the Prime Minister of India. He was re-elected in the 2019 general elections with an even larger majority.\\n\\n5. **Policies and Initiatives**: As Prime Minister, Modi has launched various initiatives and programs, including Swachh Bharat Abhiyan (Clean India Mission), Make in India, Digital India, and Smart Cities Mission. His government has also introduced significant economic reforms, such as the Goods and Services Tax (GST) and demonetization.\\n\\n6. **International Relations**: Modi has been active in foreign policy, focusing on improving India's relations with other countries and enhancing its global standing.\\n\\nModi is known for his oratory skills and is considered a prominent leader in contemporary Indian politics. However, his tenure has also been marked by controversies, including allegations of human rights violations and criticism of some of his policies.\", response_metadata={'token_usage': {'prompt_tokens': 12, 'total_tokens': 498, 'completion_tokens': 486}, 'model': 'mistral-large-latest', 'finish_reason': 'stop'}, id='run-92e26d99-1c4e-40ee-bd7f-477031ee2317-0', usage_metadata={'input_tokens': 12, 'output_tokens': 486, 'total_tokens': 498}),\n",
       "  HumanMessage(content='What is his age, again?')]}"
      ]
     },
     "execution_count": 6,
     "metadata": {},
     "output_type": "execute_result"
    }
   ],
   "source": [
    "result['messages'].append(HumanMessage(content=\"What is his age, again?\"))\n",
    "\n",
    "result"
   ]
  },
  {
   "cell_type": "code",
   "execution_count": 7,
   "metadata": {},
   "outputs": [
    {
     "data": {
      "text/plain": [
       "{'messages': [HumanMessage(content='Who is Narendra Modi?', id='4c146c78-5b7c-452e-b5b5-dff75bbf4185'),\n",
       "  AIMessage(content=\"Narendra Modi is an Indian politician who has been serving as the Prime Minister of India since 2014. Here are some key points about him:\\n\\n1. **Early Life and Education**: Narendra Damodardas Modi was born on September 17, 1950, in Vadnagar, Gujarat. He holds a Bachelor's degree in political science from the School of Open Learning, University of Delhi, and a Master's degree in political science from Gujarat University.\\n\\n2. **Political Career**: Modi began his political career as a member of the Rashtriya Swayamsevak Sangh (RSS) and joined the Bharatiya Janata Party (BJP) in 1985. He rose through the ranks, holding various positions within the party.\\n\\n3. **Chief Minister of Gujarat**: Modi served as the Chief Minister of Gujarat from 2001 to 2014, making him the longest-serving Chief Minister of the state. His tenure is known for significant economic growth and development in Gujarat.\\n\\n4. **Prime Minister of India**: In the 2014 general elections, the BJP won a historic majority, and Modi was elected as the Prime Minister of India. He was re-elected in the 2019 general elections with an even larger majority.\\n\\n5. **Policies and Initiatives**: As Prime Minister, Modi has launched various initiatives and programs, including Swachh Bharat Abhiyan (Clean India Mission), Make in India, Digital India, and Smart Cities Mission. His government has also introduced significant economic reforms, such as the Goods and Services Tax (GST) and demonetization.\\n\\n6. **International Relations**: Modi has been active in foreign policy, focusing on improving India's relations with other countries and enhancing its global standing.\\n\\nModi is known for his oratory skills and is considered a prominent leader in contemporary Indian politics. However, his tenure has also been marked by controversies, including allegations of human rights violations and criticism of some of his policies.\", response_metadata={'token_usage': {'prompt_tokens': 12, 'total_tokens': 498, 'completion_tokens': 486}, 'model': 'mistral-large-latest', 'finish_reason': 'stop'}, id='run-92e26d99-1c4e-40ee-bd7f-477031ee2317-0', usage_metadata={'input_tokens': 12, 'output_tokens': 486, 'total_tokens': 498}),\n",
       "  HumanMessage(content='What is his age, again?', id='4e08ec6e-6dca-4a91-9ceb-11cedfffac6b'),\n",
       "  AIMessage(content='Narendra Modi was born on September 17, 1950. As of 2023, he is 73 years old.', response_metadata={'token_usage': {'prompt_tokens': 508, 'total_tokens': 544, 'completion_tokens': 36}, 'model': 'mistral-large-latest', 'finish_reason': 'stop'}, id='run-e65c8b04-8dd4-4088-b01a-d4958b99c234-0', usage_metadata={'input_tokens': 508, 'output_tokens': 36, 'total_tokens': 544})]}"
      ]
     },
     "execution_count": 7,
     "metadata": {},
     "output_type": "execute_result"
    }
   ],
   "source": [
    "res = agent.invoke(result)\n",
    "res"
   ]
  },
  {
   "cell_type": "code",
   "execution_count": null,
   "metadata": {},
   "outputs": [],
   "source": []
  }
 ],
 "metadata": {
  "kernelspec": {
   "display_name": ".venv",
   "language": "python",
   "name": "python3"
  },
  "language_info": {
   "codemirror_mode": {
    "name": "ipython",
    "version": 3
   },
   "file_extension": ".py",
   "mimetype": "text/x-python",
   "name": "python",
   "nbconvert_exporter": "python",
   "pygments_lexer": "ipython3",
   "version": "3.12.5"
  }
 },
 "nbformat": 4,
 "nbformat_minor": 2
}
